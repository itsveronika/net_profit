{
  "nbformat": 4,
  "nbformat_minor": 0,
  "metadata": {
    "colab": {
      "provenance": []
    },
    "kernelspec": {
      "name": "python3",
      "display_name": "Python 3"
    },
    "language_info": {
      "name": "python"
    }
  },
  "cells": [
    {
      "cell_type": "code",
      "source": [
        "from bs4 import BeautifulSoup\n",
        "import requests\n",
        "import pandas as pd\n",
        "import numpy as np\n",
        "from sklearn.linear_model import LinearRegression\n",
        "from matplotlib import pyplot\n",
        "import matplotlib.pyplot as plt"
      ],
      "metadata": {
        "id": "dr4gE_JwPPGA"
      },
      "execution_count": 304,
      "outputs": []
    },
    {
      "cell_type": "code",
      "source": [
        "url = 'https://excheck.pro/company/5001026970/finances?type=results&year=2013'\n",
        "response = requests.get(url)\n",
        "print(response)\n",
        "bs = BeautifulSoup(response.text,\"lxml\")\n",
        "temp = bs.find_all('span', 'accounting-value')[20]\n",
        "print(temp)\n",
        "temp2013 = temp.text\n",
        "print(temp2013)"
      ],
      "metadata": {
        "id": "ViLeqe98Qf7W",
        "colab": {
          "base_uri": "https://localhost:8080/"
        },
        "outputId": "9a606f83-3c69-4571-c51a-2c8484b15679"
      },
      "execution_count": 305,
      "outputs": [
        {
          "output_type": "stream",
          "name": "stdout",
          "text": [
            "<Response [200]>\n",
            "<span class=\"accounting-value\">831,2 млн ₽</span>\n",
            "831,2 млн ₽\n"
          ]
        }
      ]
    },
    {
      "cell_type": "code",
      "source": [
        "url = 'https://excheck.pro/company/5001026970/finances?type=results&year=2014'\n",
        "response = requests.get(url)\n",
        "bs = BeautifulSoup(response.text,\"lxml\")\n",
        "temp = bs.find_all('span', 'accounting-value')[20]\n",
        "print(temp)\n",
        "temp2014 = temp.text\n",
        "print(temp2014)"
      ],
      "metadata": {
        "colab": {
          "base_uri": "https://localhost:8080/"
        },
        "id": "949eP93WuT5Z",
        "outputId": "50b34c11-7d40-4c38-8f4d-b77699cbf0ff"
      },
      "execution_count": 306,
      "outputs": [
        {
          "output_type": "stream",
          "name": "stdout",
          "text": [
            "<span class=\"accounting-value\">642,6 млн ₽</span>\n",
            "642,6 млн ₽\n"
          ]
        }
      ]
    },
    {
      "cell_type": "code",
      "source": [
        "url = 'https://excheck.pro/company/5001026970/finances?type=results&year=2015'\n",
        "response = requests.get(url)\n",
        "bs = BeautifulSoup(response.text,\"lxml\")\n",
        "temp = bs.find_all('span', 'accounting-value')[20]\n",
        "print(temp)\n",
        "temp2015 = temp.text\n",
        "print(temp2015)"
      ],
      "metadata": {
        "colab": {
          "base_uri": "https://localhost:8080/"
        },
        "id": "A796awE5ut08",
        "outputId": "d7d77b23-15a4-4891-81c9-4c7b011ca754"
      },
      "execution_count": 307,
      "outputs": [
        {
          "output_type": "stream",
          "name": "stdout",
          "text": [
            "<span class=\"accounting-value\">3,1 млрд ₽</span>\n",
            "3,1 млрд ₽\n"
          ]
        }
      ]
    },
    {
      "cell_type": "code",
      "source": [
        "url = 'https://excheck.pro/company/5001026970/finances?type=results&year=2016'\n",
        "response = requests.get(url)\n",
        "bs = BeautifulSoup(response.text,\"lxml\")\n",
        "temp = bs.find_all('span', 'accounting-value')[20]\n",
        "print(temp)\n",
        "temp2016 = temp.text\n",
        "print(temp2016)"
      ],
      "metadata": {
        "colab": {
          "base_uri": "https://localhost:8080/"
        },
        "id": "emXAmeR2vMSh",
        "outputId": "87e57541-f57c-47f3-cc93-fb9ef2c7b9cc"
      },
      "execution_count": 308,
      "outputs": [
        {
          "output_type": "stream",
          "name": "stdout",
          "text": [
            "<span class=\"accounting-value\">1,8 млрд ₽</span>\n",
            "1,8 млрд ₽\n"
          ]
        }
      ]
    },
    {
      "cell_type": "code",
      "source": [
        "url = 'https://excheck.pro/company/5001026970/finances?type=results&year=2017'\n",
        "response = requests.get(url)\n",
        "bs = BeautifulSoup(response.text,\"lxml\")\n",
        "temp = bs.find_all('span', 'accounting-value')[20]\n",
        "print(temp)\n",
        "temp2017 = temp.text\n",
        "print(temp2017)"
      ],
      "metadata": {
        "colab": {
          "base_uri": "https://localhost:8080/"
        },
        "id": "r8Ik-z0rvSaZ",
        "outputId": "729745c9-1eaa-46f3-b3cd-19056d2c4839"
      },
      "execution_count": 309,
      "outputs": [
        {
          "output_type": "stream",
          "name": "stdout",
          "text": [
            "<span class=\"accounting-value\">2,4 млрд ₽</span>\n",
            "2,4 млрд ₽\n"
          ]
        }
      ]
    },
    {
      "cell_type": "code",
      "source": [
        "url = 'https://excheck.pro/company/5001026970/finances?type=results&year=2018'\n",
        "response = requests.get(url)\n",
        "bs = BeautifulSoup(response.text,\"lxml\")\n",
        "temp = bs.find_all('span', 'accounting-value')[18]\n",
        "print(temp)\n",
        "temp2018 = temp.text\n",
        "print(temp2018)"
      ],
      "metadata": {
        "colab": {
          "base_uri": "https://localhost:8080/"
        },
        "id": "DfNjh_LDvbL-",
        "outputId": "93ad278a-32d9-4e67-87ef-f2284aa3a626"
      },
      "execution_count": 310,
      "outputs": [
        {
          "output_type": "stream",
          "name": "stdout",
          "text": [
            "<span class=\"accounting-value\">3,1 млрд ₽</span>\n",
            "3,1 млрд ₽\n"
          ]
        }
      ]
    },
    {
      "cell_type": "code",
      "source": [
        "url = 'https://excheck.pro/company/5001026970/finances?type=results&year=2019'\n",
        "response = requests.get(url)\n",
        "bs = BeautifulSoup(response.text,\"lxml\")\n",
        "temp = bs.find_all('span', 'accounting-value')[19]\n",
        "print(temp)\n",
        "temp2019 = temp.text\n",
        "print(temp2019)"
      ],
      "metadata": {
        "colab": {
          "base_uri": "https://localhost:8080/"
        },
        "id": "BkXqa29zveqI",
        "outputId": "3ceb1992-ee2e-4d12-c906-cefef9c684bc"
      },
      "execution_count": 311,
      "outputs": [
        {
          "output_type": "stream",
          "name": "stdout",
          "text": [
            "<span class=\"accounting-value\">1,1 млрд ₽</span>\n",
            "1,1 млрд ₽\n"
          ]
        }
      ]
    },
    {
      "cell_type": "code",
      "source": [
        "url = 'https://excheck.pro/company/5001026970/finances?type=results&year=2020'\n",
        "response = requests.get(url)\n",
        "bs = BeautifulSoup(response.text,\"lxml\")\n",
        "temp = bs.find_all('span', 'accounting-value')[18]\n",
        "print(temp)\n",
        "temp2020 = temp.text\n",
        "print(temp2020)"
      ],
      "metadata": {
        "colab": {
          "base_uri": "https://localhost:8080/"
        },
        "id": "N04fu4XUvqZ5",
        "outputId": "e1a3c833-6d99-4d61-c567-be268bfaed07"
      },
      "execution_count": 312,
      "outputs": [
        {
          "output_type": "stream",
          "name": "stdout",
          "text": [
            "<span class=\"accounting-value\">2,8 млрд ₽</span>\n",
            "2,8 млрд ₽\n"
          ]
        }
      ]
    },
    {
      "cell_type": "code",
      "source": [
        "url = 'https://excheck.pro/company/5001026970/finances?type=results&year=2021'\n",
        "response = requests.get(url)\n",
        "bs = BeautifulSoup(response.text,\"lxml\")\n",
        "temp = bs.find_all('span', 'accounting-value')[16]\n",
        "print(temp)\n",
        "temp2021 = temp.text\n",
        "print(temp2021)"
      ],
      "metadata": {
        "colab": {
          "base_uri": "https://localhost:8080/"
        },
        "id": "Yi0zwvHvvuX8",
        "outputId": "c8d50728-6460-460c-9f83-ee9cad674728"
      },
      "execution_count": 313,
      "outputs": [
        {
          "output_type": "stream",
          "name": "stdout",
          "text": [
            "<span class=\"accounting-value\">1,9 млрд ₽</span>\n",
            "1,9 млрд ₽\n"
          ]
        }
      ]
    },
    {
      "cell_type": "code",
      "source": [
        "list = []\n",
        "list = temp2013 + ',' + ' ' + temp2014 + ',' + ' ' + temp2015 + ',' + ' ' + temp2016 + ',' + ' ' + temp2017 + ',' + ' ' + temp2018 + ',' + ' ' + temp2019 + ',' + ' ' + temp2020 + ',' + ' ' + temp2021\n",
        "print(list)"
      ],
      "metadata": {
        "colab": {
          "base_uri": "https://localhost:8080/"
        },
        "id": "8kWopf5aW8of",
        "outputId": "139f141a-6f53-424d-bbf1-3e263b1b1526"
      },
      "execution_count": 314,
      "outputs": [
        {
          "output_type": "stream",
          "name": "stdout",
          "text": [
            "831,2 млн ₽, 642,6 млн ₽, 3,1 млрд ₽, 1,8 млрд ₽, 2,4 млрд ₽, 3,1 млрд ₽, 1,1 млрд ₽, 2,8 млрд ₽, 1,9 млрд ₽\n"
          ]
        }
      ]
    },
    {
      "cell_type": "code",
      "source": [
        "my_df = pd.DataFrame({'year': [2013, 2014, 2015, 2016, 2017, 2018, 2019, 2020, 2021],\n",
        "'net_profit': [831200000, 642600000,  3100000000000, 1800000000000, 2400000000000, 3100000000000, 1100000000000, 2800000000000, 1900000000000]})\n",
        "my_df"
      ],
      "metadata": {
        "colab": {
          "base_uri": "https://localhost:8080/",
          "height": 331
        },
        "id": "g5gh33OAO5S1",
        "outputId": "41679421-9789-4fb0-f3ea-376007e5d8f2"
      },
      "execution_count": 315,
      "outputs": [
        {
          "output_type": "execute_result",
          "data": {
            "text/plain": [
              "   year     net_profit\n",
              "0  2013      831200000\n",
              "1  2014      642600000\n",
              "2  2015  3100000000000\n",
              "3  2016  1800000000000\n",
              "4  2017  2400000000000\n",
              "5  2018  3100000000000\n",
              "6  2019  1100000000000\n",
              "7  2020  2800000000000\n",
              "8  2021  1900000000000"
            ],
            "text/html": [
              "\n",
              "  <div id=\"df-2198fe61-c5ef-441a-9177-04b308be9c9b\">\n",
              "    <div class=\"colab-df-container\">\n",
              "      <div>\n",
              "<style scoped>\n",
              "    .dataframe tbody tr th:only-of-type {\n",
              "        vertical-align: middle;\n",
              "    }\n",
              "\n",
              "    .dataframe tbody tr th {\n",
              "        vertical-align: top;\n",
              "    }\n",
              "\n",
              "    .dataframe thead th {\n",
              "        text-align: right;\n",
              "    }\n",
              "</style>\n",
              "<table border=\"1\" class=\"dataframe\">\n",
              "  <thead>\n",
              "    <tr style=\"text-align: right;\">\n",
              "      <th></th>\n",
              "      <th>year</th>\n",
              "      <th>net_profit</th>\n",
              "    </tr>\n",
              "  </thead>\n",
              "  <tbody>\n",
              "    <tr>\n",
              "      <th>0</th>\n",
              "      <td>2013</td>\n",
              "      <td>831200000</td>\n",
              "    </tr>\n",
              "    <tr>\n",
              "      <th>1</th>\n",
              "      <td>2014</td>\n",
              "      <td>642600000</td>\n",
              "    </tr>\n",
              "    <tr>\n",
              "      <th>2</th>\n",
              "      <td>2015</td>\n",
              "      <td>3100000000000</td>\n",
              "    </tr>\n",
              "    <tr>\n",
              "      <th>3</th>\n",
              "      <td>2016</td>\n",
              "      <td>1800000000000</td>\n",
              "    </tr>\n",
              "    <tr>\n",
              "      <th>4</th>\n",
              "      <td>2017</td>\n",
              "      <td>2400000000000</td>\n",
              "    </tr>\n",
              "    <tr>\n",
              "      <th>5</th>\n",
              "      <td>2018</td>\n",
              "      <td>3100000000000</td>\n",
              "    </tr>\n",
              "    <tr>\n",
              "      <th>6</th>\n",
              "      <td>2019</td>\n",
              "      <td>1100000000000</td>\n",
              "    </tr>\n",
              "    <tr>\n",
              "      <th>7</th>\n",
              "      <td>2020</td>\n",
              "      <td>2800000000000</td>\n",
              "    </tr>\n",
              "    <tr>\n",
              "      <th>8</th>\n",
              "      <td>2021</td>\n",
              "      <td>1900000000000</td>\n",
              "    </tr>\n",
              "  </tbody>\n",
              "</table>\n",
              "</div>\n",
              "      <button class=\"colab-df-convert\" onclick=\"convertToInteractive('df-2198fe61-c5ef-441a-9177-04b308be9c9b')\"\n",
              "              title=\"Convert this dataframe to an interactive table.\"\n",
              "              style=\"display:none;\">\n",
              "        \n",
              "  <svg xmlns=\"http://www.w3.org/2000/svg\" height=\"24px\"viewBox=\"0 0 24 24\"\n",
              "       width=\"24px\">\n",
              "    <path d=\"M0 0h24v24H0V0z\" fill=\"none\"/>\n",
              "    <path d=\"M18.56 5.44l.94 2.06.94-2.06 2.06-.94-2.06-.94-.94-2.06-.94 2.06-2.06.94zm-11 1L8.5 8.5l.94-2.06 2.06-.94-2.06-.94L8.5 2.5l-.94 2.06-2.06.94zm10 10l.94 2.06.94-2.06 2.06-.94-2.06-.94-.94-2.06-.94 2.06-2.06.94z\"/><path d=\"M17.41 7.96l-1.37-1.37c-.4-.4-.92-.59-1.43-.59-.52 0-1.04.2-1.43.59L10.3 9.45l-7.72 7.72c-.78.78-.78 2.05 0 2.83L4 21.41c.39.39.9.59 1.41.59.51 0 1.02-.2 1.41-.59l7.78-7.78 2.81-2.81c.8-.78.8-2.07 0-2.86zM5.41 20L4 18.59l7.72-7.72 1.47 1.35L5.41 20z\"/>\n",
              "  </svg>\n",
              "      </button>\n",
              "      \n",
              "  <style>\n",
              "    .colab-df-container {\n",
              "      display:flex;\n",
              "      flex-wrap:wrap;\n",
              "      gap: 12px;\n",
              "    }\n",
              "\n",
              "    .colab-df-convert {\n",
              "      background-color: #E8F0FE;\n",
              "      border: none;\n",
              "      border-radius: 50%;\n",
              "      cursor: pointer;\n",
              "      display: none;\n",
              "      fill: #1967D2;\n",
              "      height: 32px;\n",
              "      padding: 0 0 0 0;\n",
              "      width: 32px;\n",
              "    }\n",
              "\n",
              "    .colab-df-convert:hover {\n",
              "      background-color: #E2EBFA;\n",
              "      box-shadow: 0px 1px 2px rgba(60, 64, 67, 0.3), 0px 1px 3px 1px rgba(60, 64, 67, 0.15);\n",
              "      fill: #174EA6;\n",
              "    }\n",
              "\n",
              "    [theme=dark] .colab-df-convert {\n",
              "      background-color: #3B4455;\n",
              "      fill: #D2E3FC;\n",
              "    }\n",
              "\n",
              "    [theme=dark] .colab-df-convert:hover {\n",
              "      background-color: #434B5C;\n",
              "      box-shadow: 0px 1px 3px 1px rgba(0, 0, 0, 0.15);\n",
              "      filter: drop-shadow(0px 1px 2px rgba(0, 0, 0, 0.3));\n",
              "      fill: #FFFFFF;\n",
              "    }\n",
              "  </style>\n",
              "\n",
              "      <script>\n",
              "        const buttonEl =\n",
              "          document.querySelector('#df-2198fe61-c5ef-441a-9177-04b308be9c9b button.colab-df-convert');\n",
              "        buttonEl.style.display =\n",
              "          google.colab.kernel.accessAllowed ? 'block' : 'none';\n",
              "\n",
              "        async function convertToInteractive(key) {\n",
              "          const element = document.querySelector('#df-2198fe61-c5ef-441a-9177-04b308be9c9b');\n",
              "          const dataTable =\n",
              "            await google.colab.kernel.invokeFunction('convertToInteractive',\n",
              "                                                     [key], {});\n",
              "          if (!dataTable) return;\n",
              "\n",
              "          const docLinkHtml = 'Like what you see? Visit the ' +\n",
              "            '<a target=\"_blank\" href=https://colab.research.google.com/notebooks/data_table.ipynb>data table notebook</a>'\n",
              "            + ' to learn more about interactive tables.';\n",
              "          element.innerHTML = '';\n",
              "          dataTable['output_type'] = 'display_data';\n",
              "          await google.colab.output.renderOutput(dataTable, element);\n",
              "          const docLink = document.createElement('div');\n",
              "          docLink.innerHTML = docLinkHtml;\n",
              "          element.appendChild(docLink);\n",
              "        }\n",
              "      </script>\n",
              "    </div>\n",
              "  </div>\n",
              "  "
            ]
          },
          "metadata": {},
          "execution_count": 315
        }
      ]
    },
    {
      "cell_type": "code",
      "source": [
        "new_df = pd.date_range(start='31/12/2012', end = '31/12/2021', freq='W')\n",
        "new_df = pd.DataFrame(new_df)"
      ],
      "metadata": {
        "id": "xM5aNtxMRwWc",
        "colab": {
          "base_uri": "https://localhost:8080/"
        },
        "outputId": "04402fd8-17d3-4b42-964a-e31d48f6347e"
      },
      "execution_count": 316,
      "outputs": [
        {
          "output_type": "stream",
          "name": "stderr",
          "text": [
            "<ipython-input-316-2f076cc41af6>:1: UserWarning: Parsing dates in DD/MM/YYYY format when dayfirst=False (the default) was specified. This may lead to inconsistently parsed dates! Specify a format to ensure consistent parsing.\n",
            "  new_df = pd.date_range(start='31/12/2012', end = '31/12/2021', freq='W')\n"
          ]
        }
      ]
    },
    {
      "cell_type": "code",
      "source": [
        "new_df.columns = ['weaks'] \n",
        "new_df"
      ],
      "metadata": {
        "colab": {
          "base_uri": "https://localhost:8080/",
          "height": 423
        },
        "id": "g15xLQY-M0SB",
        "outputId": "0beaa330-2012-483a-cf51-93882197add6"
      },
      "execution_count": 317,
      "outputs": [
        {
          "output_type": "execute_result",
          "data": {
            "text/plain": [
              "         weaks\n",
              "0   2013-01-06\n",
              "1   2013-01-13\n",
              "2   2013-01-20\n",
              "3   2013-01-27\n",
              "4   2013-02-03\n",
              "..         ...\n",
              "464 2021-11-28\n",
              "465 2021-12-05\n",
              "466 2021-12-12\n",
              "467 2021-12-19\n",
              "468 2021-12-26\n",
              "\n",
              "[469 rows x 1 columns]"
            ],
            "text/html": [
              "\n",
              "  <div id=\"df-0586195e-492f-4d4c-bbc2-e979c1f412d0\">\n",
              "    <div class=\"colab-df-container\">\n",
              "      <div>\n",
              "<style scoped>\n",
              "    .dataframe tbody tr th:only-of-type {\n",
              "        vertical-align: middle;\n",
              "    }\n",
              "\n",
              "    .dataframe tbody tr th {\n",
              "        vertical-align: top;\n",
              "    }\n",
              "\n",
              "    .dataframe thead th {\n",
              "        text-align: right;\n",
              "    }\n",
              "</style>\n",
              "<table border=\"1\" class=\"dataframe\">\n",
              "  <thead>\n",
              "    <tr style=\"text-align: right;\">\n",
              "      <th></th>\n",
              "      <th>weaks</th>\n",
              "    </tr>\n",
              "  </thead>\n",
              "  <tbody>\n",
              "    <tr>\n",
              "      <th>0</th>\n",
              "      <td>2013-01-06</td>\n",
              "    </tr>\n",
              "    <tr>\n",
              "      <th>1</th>\n",
              "      <td>2013-01-13</td>\n",
              "    </tr>\n",
              "    <tr>\n",
              "      <th>2</th>\n",
              "      <td>2013-01-20</td>\n",
              "    </tr>\n",
              "    <tr>\n",
              "      <th>3</th>\n",
              "      <td>2013-01-27</td>\n",
              "    </tr>\n",
              "    <tr>\n",
              "      <th>4</th>\n",
              "      <td>2013-02-03</td>\n",
              "    </tr>\n",
              "    <tr>\n",
              "      <th>...</th>\n",
              "      <td>...</td>\n",
              "    </tr>\n",
              "    <tr>\n",
              "      <th>464</th>\n",
              "      <td>2021-11-28</td>\n",
              "    </tr>\n",
              "    <tr>\n",
              "      <th>465</th>\n",
              "      <td>2021-12-05</td>\n",
              "    </tr>\n",
              "    <tr>\n",
              "      <th>466</th>\n",
              "      <td>2021-12-12</td>\n",
              "    </tr>\n",
              "    <tr>\n",
              "      <th>467</th>\n",
              "      <td>2021-12-19</td>\n",
              "    </tr>\n",
              "    <tr>\n",
              "      <th>468</th>\n",
              "      <td>2021-12-26</td>\n",
              "    </tr>\n",
              "  </tbody>\n",
              "</table>\n",
              "<p>469 rows × 1 columns</p>\n",
              "</div>\n",
              "      <button class=\"colab-df-convert\" onclick=\"convertToInteractive('df-0586195e-492f-4d4c-bbc2-e979c1f412d0')\"\n",
              "              title=\"Convert this dataframe to an interactive table.\"\n",
              "              style=\"display:none;\">\n",
              "        \n",
              "  <svg xmlns=\"http://www.w3.org/2000/svg\" height=\"24px\"viewBox=\"0 0 24 24\"\n",
              "       width=\"24px\">\n",
              "    <path d=\"M0 0h24v24H0V0z\" fill=\"none\"/>\n",
              "    <path d=\"M18.56 5.44l.94 2.06.94-2.06 2.06-.94-2.06-.94-.94-2.06-.94 2.06-2.06.94zm-11 1L8.5 8.5l.94-2.06 2.06-.94-2.06-.94L8.5 2.5l-.94 2.06-2.06.94zm10 10l.94 2.06.94-2.06 2.06-.94-2.06-.94-.94-2.06-.94 2.06-2.06.94z\"/><path d=\"M17.41 7.96l-1.37-1.37c-.4-.4-.92-.59-1.43-.59-.52 0-1.04.2-1.43.59L10.3 9.45l-7.72 7.72c-.78.78-.78 2.05 0 2.83L4 21.41c.39.39.9.59 1.41.59.51 0 1.02-.2 1.41-.59l7.78-7.78 2.81-2.81c.8-.78.8-2.07 0-2.86zM5.41 20L4 18.59l7.72-7.72 1.47 1.35L5.41 20z\"/>\n",
              "  </svg>\n",
              "      </button>\n",
              "      \n",
              "  <style>\n",
              "    .colab-df-container {\n",
              "      display:flex;\n",
              "      flex-wrap:wrap;\n",
              "      gap: 12px;\n",
              "    }\n",
              "\n",
              "    .colab-df-convert {\n",
              "      background-color: #E8F0FE;\n",
              "      border: none;\n",
              "      border-radius: 50%;\n",
              "      cursor: pointer;\n",
              "      display: none;\n",
              "      fill: #1967D2;\n",
              "      height: 32px;\n",
              "      padding: 0 0 0 0;\n",
              "      width: 32px;\n",
              "    }\n",
              "\n",
              "    .colab-df-convert:hover {\n",
              "      background-color: #E2EBFA;\n",
              "      box-shadow: 0px 1px 2px rgba(60, 64, 67, 0.3), 0px 1px 3px 1px rgba(60, 64, 67, 0.15);\n",
              "      fill: #174EA6;\n",
              "    }\n",
              "\n",
              "    [theme=dark] .colab-df-convert {\n",
              "      background-color: #3B4455;\n",
              "      fill: #D2E3FC;\n",
              "    }\n",
              "\n",
              "    [theme=dark] .colab-df-convert:hover {\n",
              "      background-color: #434B5C;\n",
              "      box-shadow: 0px 1px 3px 1px rgba(0, 0, 0, 0.15);\n",
              "      filter: drop-shadow(0px 1px 2px rgba(0, 0, 0, 0.3));\n",
              "      fill: #FFFFFF;\n",
              "    }\n",
              "  </style>\n",
              "\n",
              "      <script>\n",
              "        const buttonEl =\n",
              "          document.querySelector('#df-0586195e-492f-4d4c-bbc2-e979c1f412d0 button.colab-df-convert');\n",
              "        buttonEl.style.display =\n",
              "          google.colab.kernel.accessAllowed ? 'block' : 'none';\n",
              "\n",
              "        async function convertToInteractive(key) {\n",
              "          const element = document.querySelector('#df-0586195e-492f-4d4c-bbc2-e979c1f412d0');\n",
              "          const dataTable =\n",
              "            await google.colab.kernel.invokeFunction('convertToInteractive',\n",
              "                                                     [key], {});\n",
              "          if (!dataTable) return;\n",
              "\n",
              "          const docLinkHtml = 'Like what you see? Visit the ' +\n",
              "            '<a target=\"_blank\" href=https://colab.research.google.com/notebooks/data_table.ipynb>data table notebook</a>'\n",
              "            + ' to learn more about interactive tables.';\n",
              "          element.innerHTML = '';\n",
              "          dataTable['output_type'] = 'display_data';\n",
              "          await google.colab.output.renderOutput(dataTable, element);\n",
              "          const docLink = document.createElement('div');\n",
              "          docLink.innerHTML = docLinkHtml;\n",
              "          element.appendChild(docLink);\n",
              "        }\n",
              "      </script>\n",
              "    </div>\n",
              "  </div>\n",
              "  "
            ]
          },
          "metadata": {},
          "execution_count": 317
        }
      ]
    },
    {
      "cell_type": "code",
      "source": [
        "l = []\n",
        "for i in my_df['net_profit']:\n",
        "  l.append(round(i / 52))\n",
        "l"
      ],
      "metadata": {
        "colab": {
          "base_uri": "https://localhost:8080/"
        },
        "id": "CAk7kYpuM8yK",
        "outputId": "79ca7365-cc02-49ec-898e-22a374a381ac"
      },
      "execution_count": 318,
      "outputs": [
        {
          "output_type": "execute_result",
          "data": {
            "text/plain": [
              "[15984615,\n",
              " 12357692,\n",
              " 59615384615,\n",
              " 34615384615,\n",
              " 46153846154,\n",
              " 59615384615,\n",
              " 21153846154,\n",
              " 53846153846,\n",
              " 36538461538]"
            ]
          },
          "metadata": {},
          "execution_count": 318
        }
      ]
    },
    {
      "cell_type": "code",
      "source": [
        "new_df.columns = ['weaks']\n",
        "new_df"
      ],
      "metadata": {
        "colab": {
          "base_uri": "https://localhost:8080/",
          "height": 423
        },
        "id": "F-CgkmBLGx0V",
        "outputId": "4bb84bd8-5378-41b2-d64a-c9616c719453"
      },
      "execution_count": 319,
      "outputs": [
        {
          "output_type": "execute_result",
          "data": {
            "text/plain": [
              "         weaks\n",
              "0   2013-01-06\n",
              "1   2013-01-13\n",
              "2   2013-01-20\n",
              "3   2013-01-27\n",
              "4   2013-02-03\n",
              "..         ...\n",
              "464 2021-11-28\n",
              "465 2021-12-05\n",
              "466 2021-12-12\n",
              "467 2021-12-19\n",
              "468 2021-12-26\n",
              "\n",
              "[469 rows x 1 columns]"
            ],
            "text/html": [
              "\n",
              "  <div id=\"df-273edf73-1c5d-49c7-b015-9c06cc9c5442\">\n",
              "    <div class=\"colab-df-container\">\n",
              "      <div>\n",
              "<style scoped>\n",
              "    .dataframe tbody tr th:only-of-type {\n",
              "        vertical-align: middle;\n",
              "    }\n",
              "\n",
              "    .dataframe tbody tr th {\n",
              "        vertical-align: top;\n",
              "    }\n",
              "\n",
              "    .dataframe thead th {\n",
              "        text-align: right;\n",
              "    }\n",
              "</style>\n",
              "<table border=\"1\" class=\"dataframe\">\n",
              "  <thead>\n",
              "    <tr style=\"text-align: right;\">\n",
              "      <th></th>\n",
              "      <th>weaks</th>\n",
              "    </tr>\n",
              "  </thead>\n",
              "  <tbody>\n",
              "    <tr>\n",
              "      <th>0</th>\n",
              "      <td>2013-01-06</td>\n",
              "    </tr>\n",
              "    <tr>\n",
              "      <th>1</th>\n",
              "      <td>2013-01-13</td>\n",
              "    </tr>\n",
              "    <tr>\n",
              "      <th>2</th>\n",
              "      <td>2013-01-20</td>\n",
              "    </tr>\n",
              "    <tr>\n",
              "      <th>3</th>\n",
              "      <td>2013-01-27</td>\n",
              "    </tr>\n",
              "    <tr>\n",
              "      <th>4</th>\n",
              "      <td>2013-02-03</td>\n",
              "    </tr>\n",
              "    <tr>\n",
              "      <th>...</th>\n",
              "      <td>...</td>\n",
              "    </tr>\n",
              "    <tr>\n",
              "      <th>464</th>\n",
              "      <td>2021-11-28</td>\n",
              "    </tr>\n",
              "    <tr>\n",
              "      <th>465</th>\n",
              "      <td>2021-12-05</td>\n",
              "    </tr>\n",
              "    <tr>\n",
              "      <th>466</th>\n",
              "      <td>2021-12-12</td>\n",
              "    </tr>\n",
              "    <tr>\n",
              "      <th>467</th>\n",
              "      <td>2021-12-19</td>\n",
              "    </tr>\n",
              "    <tr>\n",
              "      <th>468</th>\n",
              "      <td>2021-12-26</td>\n",
              "    </tr>\n",
              "  </tbody>\n",
              "</table>\n",
              "<p>469 rows × 1 columns</p>\n",
              "</div>\n",
              "      <button class=\"colab-df-convert\" onclick=\"convertToInteractive('df-273edf73-1c5d-49c7-b015-9c06cc9c5442')\"\n",
              "              title=\"Convert this dataframe to an interactive table.\"\n",
              "              style=\"display:none;\">\n",
              "        \n",
              "  <svg xmlns=\"http://www.w3.org/2000/svg\" height=\"24px\"viewBox=\"0 0 24 24\"\n",
              "       width=\"24px\">\n",
              "    <path d=\"M0 0h24v24H0V0z\" fill=\"none\"/>\n",
              "    <path d=\"M18.56 5.44l.94 2.06.94-2.06 2.06-.94-2.06-.94-.94-2.06-.94 2.06-2.06.94zm-11 1L8.5 8.5l.94-2.06 2.06-.94-2.06-.94L8.5 2.5l-.94 2.06-2.06.94zm10 10l.94 2.06.94-2.06 2.06-.94-2.06-.94-.94-2.06-.94 2.06-2.06.94z\"/><path d=\"M17.41 7.96l-1.37-1.37c-.4-.4-.92-.59-1.43-.59-.52 0-1.04.2-1.43.59L10.3 9.45l-7.72 7.72c-.78.78-.78 2.05 0 2.83L4 21.41c.39.39.9.59 1.41.59.51 0 1.02-.2 1.41-.59l7.78-7.78 2.81-2.81c.8-.78.8-2.07 0-2.86zM5.41 20L4 18.59l7.72-7.72 1.47 1.35L5.41 20z\"/>\n",
              "  </svg>\n",
              "      </button>\n",
              "      \n",
              "  <style>\n",
              "    .colab-df-container {\n",
              "      display:flex;\n",
              "      flex-wrap:wrap;\n",
              "      gap: 12px;\n",
              "    }\n",
              "\n",
              "    .colab-df-convert {\n",
              "      background-color: #E8F0FE;\n",
              "      border: none;\n",
              "      border-radius: 50%;\n",
              "      cursor: pointer;\n",
              "      display: none;\n",
              "      fill: #1967D2;\n",
              "      height: 32px;\n",
              "      padding: 0 0 0 0;\n",
              "      width: 32px;\n",
              "    }\n",
              "\n",
              "    .colab-df-convert:hover {\n",
              "      background-color: #E2EBFA;\n",
              "      box-shadow: 0px 1px 2px rgba(60, 64, 67, 0.3), 0px 1px 3px 1px rgba(60, 64, 67, 0.15);\n",
              "      fill: #174EA6;\n",
              "    }\n",
              "\n",
              "    [theme=dark] .colab-df-convert {\n",
              "      background-color: #3B4455;\n",
              "      fill: #D2E3FC;\n",
              "    }\n",
              "\n",
              "    [theme=dark] .colab-df-convert:hover {\n",
              "      background-color: #434B5C;\n",
              "      box-shadow: 0px 1px 3px 1px rgba(0, 0, 0, 0.15);\n",
              "      filter: drop-shadow(0px 1px 2px rgba(0, 0, 0, 0.3));\n",
              "      fill: #FFFFFF;\n",
              "    }\n",
              "  </style>\n",
              "\n",
              "      <script>\n",
              "        const buttonEl =\n",
              "          document.querySelector('#df-273edf73-1c5d-49c7-b015-9c06cc9c5442 button.colab-df-convert');\n",
              "        buttonEl.style.display =\n",
              "          google.colab.kernel.accessAllowed ? 'block' : 'none';\n",
              "\n",
              "        async function convertToInteractive(key) {\n",
              "          const element = document.querySelector('#df-273edf73-1c5d-49c7-b015-9c06cc9c5442');\n",
              "          const dataTable =\n",
              "            await google.colab.kernel.invokeFunction('convertToInteractive',\n",
              "                                                     [key], {});\n",
              "          if (!dataTable) return;\n",
              "\n",
              "          const docLinkHtml = 'Like what you see? Visit the ' +\n",
              "            '<a target=\"_blank\" href=https://colab.research.google.com/notebooks/data_table.ipynb>data table notebook</a>'\n",
              "            + ' to learn more about interactive tables.';\n",
              "          element.innerHTML = '';\n",
              "          dataTable['output_type'] = 'display_data';\n",
              "          await google.colab.output.renderOutput(dataTable, element);\n",
              "          const docLink = document.createElement('div');\n",
              "          docLink.innerHTML = docLinkHtml;\n",
              "          element.appendChild(docLink);\n",
              "        }\n",
              "      </script>\n",
              "    </div>\n",
              "  </div>\n",
              "  "
            ]
          },
          "metadata": {},
          "execution_count": 319
        }
      ]
    },
    {
      "cell_type": "code",
      "source": [
        "new_df['net_profit'] = ''\n",
        "new_df"
      ],
      "metadata": {
        "colab": {
          "base_uri": "https://localhost:8080/",
          "height": 423
        },
        "id": "EqylT4zwcUFk",
        "outputId": "2933ae4b-227e-4782-e45d-938b736eb433"
      },
      "execution_count": 320,
      "outputs": [
        {
          "output_type": "execute_result",
          "data": {
            "text/plain": [
              "         weaks net_profit\n",
              "0   2013-01-06           \n",
              "1   2013-01-13           \n",
              "2   2013-01-20           \n",
              "3   2013-01-27           \n",
              "4   2013-02-03           \n",
              "..         ...        ...\n",
              "464 2021-11-28           \n",
              "465 2021-12-05           \n",
              "466 2021-12-12           \n",
              "467 2021-12-19           \n",
              "468 2021-12-26           \n",
              "\n",
              "[469 rows x 2 columns]"
            ],
            "text/html": [
              "\n",
              "  <div id=\"df-0691020c-666a-439a-a437-0a953f7826ea\">\n",
              "    <div class=\"colab-df-container\">\n",
              "      <div>\n",
              "<style scoped>\n",
              "    .dataframe tbody tr th:only-of-type {\n",
              "        vertical-align: middle;\n",
              "    }\n",
              "\n",
              "    .dataframe tbody tr th {\n",
              "        vertical-align: top;\n",
              "    }\n",
              "\n",
              "    .dataframe thead th {\n",
              "        text-align: right;\n",
              "    }\n",
              "</style>\n",
              "<table border=\"1\" class=\"dataframe\">\n",
              "  <thead>\n",
              "    <tr style=\"text-align: right;\">\n",
              "      <th></th>\n",
              "      <th>weaks</th>\n",
              "      <th>net_profit</th>\n",
              "    </tr>\n",
              "  </thead>\n",
              "  <tbody>\n",
              "    <tr>\n",
              "      <th>0</th>\n",
              "      <td>2013-01-06</td>\n",
              "      <td></td>\n",
              "    </tr>\n",
              "    <tr>\n",
              "      <th>1</th>\n",
              "      <td>2013-01-13</td>\n",
              "      <td></td>\n",
              "    </tr>\n",
              "    <tr>\n",
              "      <th>2</th>\n",
              "      <td>2013-01-20</td>\n",
              "      <td></td>\n",
              "    </tr>\n",
              "    <tr>\n",
              "      <th>3</th>\n",
              "      <td>2013-01-27</td>\n",
              "      <td></td>\n",
              "    </tr>\n",
              "    <tr>\n",
              "      <th>4</th>\n",
              "      <td>2013-02-03</td>\n",
              "      <td></td>\n",
              "    </tr>\n",
              "    <tr>\n",
              "      <th>...</th>\n",
              "      <td>...</td>\n",
              "      <td>...</td>\n",
              "    </tr>\n",
              "    <tr>\n",
              "      <th>464</th>\n",
              "      <td>2021-11-28</td>\n",
              "      <td></td>\n",
              "    </tr>\n",
              "    <tr>\n",
              "      <th>465</th>\n",
              "      <td>2021-12-05</td>\n",
              "      <td></td>\n",
              "    </tr>\n",
              "    <tr>\n",
              "      <th>466</th>\n",
              "      <td>2021-12-12</td>\n",
              "      <td></td>\n",
              "    </tr>\n",
              "    <tr>\n",
              "      <th>467</th>\n",
              "      <td>2021-12-19</td>\n",
              "      <td></td>\n",
              "    </tr>\n",
              "    <tr>\n",
              "      <th>468</th>\n",
              "      <td>2021-12-26</td>\n",
              "      <td></td>\n",
              "    </tr>\n",
              "  </tbody>\n",
              "</table>\n",
              "<p>469 rows × 2 columns</p>\n",
              "</div>\n",
              "      <button class=\"colab-df-convert\" onclick=\"convertToInteractive('df-0691020c-666a-439a-a437-0a953f7826ea')\"\n",
              "              title=\"Convert this dataframe to an interactive table.\"\n",
              "              style=\"display:none;\">\n",
              "        \n",
              "  <svg xmlns=\"http://www.w3.org/2000/svg\" height=\"24px\"viewBox=\"0 0 24 24\"\n",
              "       width=\"24px\">\n",
              "    <path d=\"M0 0h24v24H0V0z\" fill=\"none\"/>\n",
              "    <path d=\"M18.56 5.44l.94 2.06.94-2.06 2.06-.94-2.06-.94-.94-2.06-.94 2.06-2.06.94zm-11 1L8.5 8.5l.94-2.06 2.06-.94-2.06-.94L8.5 2.5l-.94 2.06-2.06.94zm10 10l.94 2.06.94-2.06 2.06-.94-2.06-.94-.94-2.06-.94 2.06-2.06.94z\"/><path d=\"M17.41 7.96l-1.37-1.37c-.4-.4-.92-.59-1.43-.59-.52 0-1.04.2-1.43.59L10.3 9.45l-7.72 7.72c-.78.78-.78 2.05 0 2.83L4 21.41c.39.39.9.59 1.41.59.51 0 1.02-.2 1.41-.59l7.78-7.78 2.81-2.81c.8-.78.8-2.07 0-2.86zM5.41 20L4 18.59l7.72-7.72 1.47 1.35L5.41 20z\"/>\n",
              "  </svg>\n",
              "      </button>\n",
              "      \n",
              "  <style>\n",
              "    .colab-df-container {\n",
              "      display:flex;\n",
              "      flex-wrap:wrap;\n",
              "      gap: 12px;\n",
              "    }\n",
              "\n",
              "    .colab-df-convert {\n",
              "      background-color: #E8F0FE;\n",
              "      border: none;\n",
              "      border-radius: 50%;\n",
              "      cursor: pointer;\n",
              "      display: none;\n",
              "      fill: #1967D2;\n",
              "      height: 32px;\n",
              "      padding: 0 0 0 0;\n",
              "      width: 32px;\n",
              "    }\n",
              "\n",
              "    .colab-df-convert:hover {\n",
              "      background-color: #E2EBFA;\n",
              "      box-shadow: 0px 1px 2px rgba(60, 64, 67, 0.3), 0px 1px 3px 1px rgba(60, 64, 67, 0.15);\n",
              "      fill: #174EA6;\n",
              "    }\n",
              "\n",
              "    [theme=dark] .colab-df-convert {\n",
              "      background-color: #3B4455;\n",
              "      fill: #D2E3FC;\n",
              "    }\n",
              "\n",
              "    [theme=dark] .colab-df-convert:hover {\n",
              "      background-color: #434B5C;\n",
              "      box-shadow: 0px 1px 3px 1px rgba(0, 0, 0, 0.15);\n",
              "      filter: drop-shadow(0px 1px 2px rgba(0, 0, 0, 0.3));\n",
              "      fill: #FFFFFF;\n",
              "    }\n",
              "  </style>\n",
              "\n",
              "      <script>\n",
              "        const buttonEl =\n",
              "          document.querySelector('#df-0691020c-666a-439a-a437-0a953f7826ea button.colab-df-convert');\n",
              "        buttonEl.style.display =\n",
              "          google.colab.kernel.accessAllowed ? 'block' : 'none';\n",
              "\n",
              "        async function convertToInteractive(key) {\n",
              "          const element = document.querySelector('#df-0691020c-666a-439a-a437-0a953f7826ea');\n",
              "          const dataTable =\n",
              "            await google.colab.kernel.invokeFunction('convertToInteractive',\n",
              "                                                     [key], {});\n",
              "          if (!dataTable) return;\n",
              "\n",
              "          const docLinkHtml = 'Like what you see? Visit the ' +\n",
              "            '<a target=\"_blank\" href=https://colab.research.google.com/notebooks/data_table.ipynb>data table notebook</a>'\n",
              "            + ' to learn more about interactive tables.';\n",
              "          element.innerHTML = '';\n",
              "          dataTable['output_type'] = 'display_data';\n",
              "          await google.colab.output.renderOutput(dataTable, element);\n",
              "          const docLink = document.createElement('div');\n",
              "          docLink.innerHTML = docLinkHtml;\n",
              "          element.appendChild(docLink);\n",
              "        }\n",
              "      </script>\n",
              "    </div>\n",
              "  </div>\n",
              "  "
            ]
          },
          "metadata": {},
          "execution_count": 320
        }
      ]
    },
    {
      "cell_type": "code",
      "source": [
        "new_df['net_profit'].iloc[:52] = l[0]\n",
        "new_df['net_profit'].iloc[52:104] = l[1]\n",
        "new_df['net_profit'].iloc[104:156] = l[2]\n",
        "new_df['net_profit'].iloc[156:208] = l[3]\n",
        "new_df['net_profit'].iloc[208:260] = l[4]\n",
        "new_df['net_profit'].iloc[260:312] = l[5]\n",
        "new_df['net_profit'].iloc[312:364] = l[6]\n",
        "new_df['net_profit'].iloc[364:416] = l[7]\n",
        "new_df['net_profit'].iloc[416:] = l[8]\n",
        "new_df"
      ],
      "metadata": {
        "colab": {
          "base_uri": "https://localhost:8080/",
          "height": 1000
        },
        "id": "sbGscjQHcjyc",
        "outputId": "6a4fc662-b5c1-4f77-90bf-56c58901dc8f"
      },
      "execution_count": 321,
      "outputs": [
        {
          "output_type": "stream",
          "name": "stderr",
          "text": [
            "<ipython-input-321-887e82c22633>:1: SettingWithCopyWarning: \n",
            "A value is trying to be set on a copy of a slice from a DataFrame\n",
            "\n",
            "See the caveats in the documentation: https://pandas.pydata.org/pandas-docs/stable/user_guide/indexing.html#returning-a-view-versus-a-copy\n",
            "  new_df['net_profit'].iloc[:52] = l[0]\n",
            "<ipython-input-321-887e82c22633>:2: SettingWithCopyWarning: \n",
            "A value is trying to be set on a copy of a slice from a DataFrame\n",
            "\n",
            "See the caveats in the documentation: https://pandas.pydata.org/pandas-docs/stable/user_guide/indexing.html#returning-a-view-versus-a-copy\n",
            "  new_df['net_profit'].iloc[52:104] = l[1]\n",
            "<ipython-input-321-887e82c22633>:3: SettingWithCopyWarning: \n",
            "A value is trying to be set on a copy of a slice from a DataFrame\n",
            "\n",
            "See the caveats in the documentation: https://pandas.pydata.org/pandas-docs/stable/user_guide/indexing.html#returning-a-view-versus-a-copy\n",
            "  new_df['net_profit'].iloc[104:156] = l[2]\n",
            "<ipython-input-321-887e82c22633>:4: SettingWithCopyWarning: \n",
            "A value is trying to be set on a copy of a slice from a DataFrame\n",
            "\n",
            "See the caveats in the documentation: https://pandas.pydata.org/pandas-docs/stable/user_guide/indexing.html#returning-a-view-versus-a-copy\n",
            "  new_df['net_profit'].iloc[156:208] = l[3]\n",
            "<ipython-input-321-887e82c22633>:5: SettingWithCopyWarning: \n",
            "A value is trying to be set on a copy of a slice from a DataFrame\n",
            "\n",
            "See the caveats in the documentation: https://pandas.pydata.org/pandas-docs/stable/user_guide/indexing.html#returning-a-view-versus-a-copy\n",
            "  new_df['net_profit'].iloc[208:260] = l[4]\n",
            "<ipython-input-321-887e82c22633>:6: SettingWithCopyWarning: \n",
            "A value is trying to be set on a copy of a slice from a DataFrame\n",
            "\n",
            "See the caveats in the documentation: https://pandas.pydata.org/pandas-docs/stable/user_guide/indexing.html#returning-a-view-versus-a-copy\n",
            "  new_df['net_profit'].iloc[260:312] = l[5]\n",
            "<ipython-input-321-887e82c22633>:7: SettingWithCopyWarning: \n",
            "A value is trying to be set on a copy of a slice from a DataFrame\n",
            "\n",
            "See the caveats in the documentation: https://pandas.pydata.org/pandas-docs/stable/user_guide/indexing.html#returning-a-view-versus-a-copy\n",
            "  new_df['net_profit'].iloc[312:364] = l[6]\n",
            "<ipython-input-321-887e82c22633>:8: SettingWithCopyWarning: \n",
            "A value is trying to be set on a copy of a slice from a DataFrame\n",
            "\n",
            "See the caveats in the documentation: https://pandas.pydata.org/pandas-docs/stable/user_guide/indexing.html#returning-a-view-versus-a-copy\n",
            "  new_df['net_profit'].iloc[364:416] = l[7]\n",
            "<ipython-input-321-887e82c22633>:9: SettingWithCopyWarning: \n",
            "A value is trying to be set on a copy of a slice from a DataFrame\n",
            "\n",
            "See the caveats in the documentation: https://pandas.pydata.org/pandas-docs/stable/user_guide/indexing.html#returning-a-view-versus-a-copy\n",
            "  new_df['net_profit'].iloc[416:] = l[8]\n"
          ]
        },
        {
          "output_type": "execute_result",
          "data": {
            "text/plain": [
              "         weaks   net_profit\n",
              "0   2013-01-06     15984615\n",
              "1   2013-01-13     15984615\n",
              "2   2013-01-20     15984615\n",
              "3   2013-01-27     15984615\n",
              "4   2013-02-03     15984615\n",
              "..         ...          ...\n",
              "464 2021-11-28  36538461538\n",
              "465 2021-12-05  36538461538\n",
              "466 2021-12-12  36538461538\n",
              "467 2021-12-19  36538461538\n",
              "468 2021-12-26  36538461538\n",
              "\n",
              "[469 rows x 2 columns]"
            ],
            "text/html": [
              "\n",
              "  <div id=\"df-e0e01d0b-88a7-459d-913e-37a230b30c1e\">\n",
              "    <div class=\"colab-df-container\">\n",
              "      <div>\n",
              "<style scoped>\n",
              "    .dataframe tbody tr th:only-of-type {\n",
              "        vertical-align: middle;\n",
              "    }\n",
              "\n",
              "    .dataframe tbody tr th {\n",
              "        vertical-align: top;\n",
              "    }\n",
              "\n",
              "    .dataframe thead th {\n",
              "        text-align: right;\n",
              "    }\n",
              "</style>\n",
              "<table border=\"1\" class=\"dataframe\">\n",
              "  <thead>\n",
              "    <tr style=\"text-align: right;\">\n",
              "      <th></th>\n",
              "      <th>weaks</th>\n",
              "      <th>net_profit</th>\n",
              "    </tr>\n",
              "  </thead>\n",
              "  <tbody>\n",
              "    <tr>\n",
              "      <th>0</th>\n",
              "      <td>2013-01-06</td>\n",
              "      <td>15984615</td>\n",
              "    </tr>\n",
              "    <tr>\n",
              "      <th>1</th>\n",
              "      <td>2013-01-13</td>\n",
              "      <td>15984615</td>\n",
              "    </tr>\n",
              "    <tr>\n",
              "      <th>2</th>\n",
              "      <td>2013-01-20</td>\n",
              "      <td>15984615</td>\n",
              "    </tr>\n",
              "    <tr>\n",
              "      <th>3</th>\n",
              "      <td>2013-01-27</td>\n",
              "      <td>15984615</td>\n",
              "    </tr>\n",
              "    <tr>\n",
              "      <th>4</th>\n",
              "      <td>2013-02-03</td>\n",
              "      <td>15984615</td>\n",
              "    </tr>\n",
              "    <tr>\n",
              "      <th>...</th>\n",
              "      <td>...</td>\n",
              "      <td>...</td>\n",
              "    </tr>\n",
              "    <tr>\n",
              "      <th>464</th>\n",
              "      <td>2021-11-28</td>\n",
              "      <td>36538461538</td>\n",
              "    </tr>\n",
              "    <tr>\n",
              "      <th>465</th>\n",
              "      <td>2021-12-05</td>\n",
              "      <td>36538461538</td>\n",
              "    </tr>\n",
              "    <tr>\n",
              "      <th>466</th>\n",
              "      <td>2021-12-12</td>\n",
              "      <td>36538461538</td>\n",
              "    </tr>\n",
              "    <tr>\n",
              "      <th>467</th>\n",
              "      <td>2021-12-19</td>\n",
              "      <td>36538461538</td>\n",
              "    </tr>\n",
              "    <tr>\n",
              "      <th>468</th>\n",
              "      <td>2021-12-26</td>\n",
              "      <td>36538461538</td>\n",
              "    </tr>\n",
              "  </tbody>\n",
              "</table>\n",
              "<p>469 rows × 2 columns</p>\n",
              "</div>\n",
              "      <button class=\"colab-df-convert\" onclick=\"convertToInteractive('df-e0e01d0b-88a7-459d-913e-37a230b30c1e')\"\n",
              "              title=\"Convert this dataframe to an interactive table.\"\n",
              "              style=\"display:none;\">\n",
              "        \n",
              "  <svg xmlns=\"http://www.w3.org/2000/svg\" height=\"24px\"viewBox=\"0 0 24 24\"\n",
              "       width=\"24px\">\n",
              "    <path d=\"M0 0h24v24H0V0z\" fill=\"none\"/>\n",
              "    <path d=\"M18.56 5.44l.94 2.06.94-2.06 2.06-.94-2.06-.94-.94-2.06-.94 2.06-2.06.94zm-11 1L8.5 8.5l.94-2.06 2.06-.94-2.06-.94L8.5 2.5l-.94 2.06-2.06.94zm10 10l.94 2.06.94-2.06 2.06-.94-2.06-.94-.94-2.06-.94 2.06-2.06.94z\"/><path d=\"M17.41 7.96l-1.37-1.37c-.4-.4-.92-.59-1.43-.59-.52 0-1.04.2-1.43.59L10.3 9.45l-7.72 7.72c-.78.78-.78 2.05 0 2.83L4 21.41c.39.39.9.59 1.41.59.51 0 1.02-.2 1.41-.59l7.78-7.78 2.81-2.81c.8-.78.8-2.07 0-2.86zM5.41 20L4 18.59l7.72-7.72 1.47 1.35L5.41 20z\"/>\n",
              "  </svg>\n",
              "      </button>\n",
              "      \n",
              "  <style>\n",
              "    .colab-df-container {\n",
              "      display:flex;\n",
              "      flex-wrap:wrap;\n",
              "      gap: 12px;\n",
              "    }\n",
              "\n",
              "    .colab-df-convert {\n",
              "      background-color: #E8F0FE;\n",
              "      border: none;\n",
              "      border-radius: 50%;\n",
              "      cursor: pointer;\n",
              "      display: none;\n",
              "      fill: #1967D2;\n",
              "      height: 32px;\n",
              "      padding: 0 0 0 0;\n",
              "      width: 32px;\n",
              "    }\n",
              "\n",
              "    .colab-df-convert:hover {\n",
              "      background-color: #E2EBFA;\n",
              "      box-shadow: 0px 1px 2px rgba(60, 64, 67, 0.3), 0px 1px 3px 1px rgba(60, 64, 67, 0.15);\n",
              "      fill: #174EA6;\n",
              "    }\n",
              "\n",
              "    [theme=dark] .colab-df-convert {\n",
              "      background-color: #3B4455;\n",
              "      fill: #D2E3FC;\n",
              "    }\n",
              "\n",
              "    [theme=dark] .colab-df-convert:hover {\n",
              "      background-color: #434B5C;\n",
              "      box-shadow: 0px 1px 3px 1px rgba(0, 0, 0, 0.15);\n",
              "      filter: drop-shadow(0px 1px 2px rgba(0, 0, 0, 0.3));\n",
              "      fill: #FFFFFF;\n",
              "    }\n",
              "  </style>\n",
              "\n",
              "      <script>\n",
              "        const buttonEl =\n",
              "          document.querySelector('#df-e0e01d0b-88a7-459d-913e-37a230b30c1e button.colab-df-convert');\n",
              "        buttonEl.style.display =\n",
              "          google.colab.kernel.accessAllowed ? 'block' : 'none';\n",
              "\n",
              "        async function convertToInteractive(key) {\n",
              "          const element = document.querySelector('#df-e0e01d0b-88a7-459d-913e-37a230b30c1e');\n",
              "          const dataTable =\n",
              "            await google.colab.kernel.invokeFunction('convertToInteractive',\n",
              "                                                     [key], {});\n",
              "          if (!dataTable) return;\n",
              "\n",
              "          const docLinkHtml = 'Like what you see? Visit the ' +\n",
              "            '<a target=\"_blank\" href=https://colab.research.google.com/notebooks/data_table.ipynb>data table notebook</a>'\n",
              "            + ' to learn more about interactive tables.';\n",
              "          element.innerHTML = '';\n",
              "          dataTable['output_type'] = 'display_data';\n",
              "          await google.colab.output.renderOutput(dataTable, element);\n",
              "          const docLink = document.createElement('div');\n",
              "          docLink.innerHTML = docLinkHtml;\n",
              "          element.appendChild(docLink);\n",
              "        }\n",
              "      </script>\n",
              "    </div>\n",
              "  </div>\n",
              "  "
            ]
          },
          "metadata": {},
          "execution_count": 321
        }
      ]
    },
    {
      "cell_type": "code",
      "source": [
        "import random"
      ],
      "metadata": {
        "id": "tkBoH81mbeSa"
      },
      "execution_count": 322,
      "outputs": []
    },
    {
      "cell_type": "code",
      "source": [
        "arr = []\n",
        "sub = 0.0\n",
        "z = 0\n",
        "for i in new_df['net_profit']:\n",
        "  if z<=7:   #зима    \n",
        "    coef = 0.67\n",
        "    sub += random.uniform(0, 0.02)\n",
        "    coef += sub\n",
        "    f = i * coef\n",
        "    arr.append(f)\n",
        "  if z>7 and z<=20:   #весна    \n",
        "    coef = 0.69\n",
        "    sub += random.uniform(0, 0.02)\n",
        "    coef += sub\n",
        "    f = i * coef\n",
        "    arr.append(f)\n",
        "  if z>20 and z<=33:   #лето   \n",
        "    coef = 0.71\n",
        "    sub += random.uniform(0, 0.02)\n",
        "    coef += sub\n",
        "    f = i * coef\n",
        "    arr.append(f)\n",
        "  if z>33 and z<=46:   #осень\n",
        "    coef = 0.69\n",
        "    sub += random.uniform(0, 0.02)\n",
        "    coef += sub\n",
        "    f = i * coef\n",
        "    arr.append(f)\n",
        "  if z>46 and z<=52:      #декабрь\n",
        "    coef = 0.67\n",
        "    sub += random.uniform(0, 0.02)\n",
        "    coef += sub\n",
        "    f = i * coef\n",
        "    arr.append(f)\n",
        "  z+=1\n",
        "print(sum(arr))"
      ],
      "metadata": {
        "colab": {
          "base_uri": "https://localhost:8080/"
        },
        "id": "Y3r26Qw-9PWR",
        "outputId": "55d76ee3-1ade-4f9d-8881-606ae0109b20"
      },
      "execution_count": 323,
      "outputs": [
        {
          "output_type": "stream",
          "name": "stdout",
          "text": [
            "807077716.9793615\n"
          ]
        }
      ]
    },
    {
      "cell_type": "code",
      "source": [
        "arr2 = []\n",
        "sub = 0.0\n",
        "z = 0\n",
        "for i in new_df['net_profit']:\n",
        "  if z>52 and z<=59: #зима\n",
        "    coef = 0.58\n",
        "    sub += random.uniform(0, 0.03)\n",
        "    coef += sub\n",
        "    f = i * coef\n",
        "    arr2.append(f)\n",
        "  if z>59 and z<=72: #весна\n",
        "    coef = 0.6\n",
        "    sub += random.uniform(0, 0.03)\n",
        "    coef += sub\n",
        "    f = i * coef\n",
        "    arr2.append(f)\n",
        "  if z>72 and z<=86:   #лето\n",
        "    coef = 0.62\n",
        "    sub += random.uniform(0, 0.03)\n",
        "    coef += sub\n",
        "    f = i * coef\n",
        "    arr2.append(f)\n",
        "  if z>86 and z<=99:   #осень\n",
        "    coef = 0.6\n",
        "    sub += random.uniform(0, 0.03)\n",
        "    coef += sub\n",
        "    f = i * coef\n",
        "    arr2.append(f)\n",
        "  if z>99 and z<=103:      #декабрь\n",
        "    coef = 0.58\n",
        "    sub += random.uniform(0, 0.03)\n",
        "    coef += sub\n",
        "    f = i * coef\n",
        "    arr2.append(f)\n",
        "  z+=1\n",
        "print(sum(arr2))"
      ],
      "metadata": {
        "colab": {
          "base_uri": "https://localhost:8080/"
        },
        "id": "l07nQOePoDJZ",
        "outputId": "d77d2d9f-7092-4b5a-e662-fba69a14e0db"
      },
      "execution_count": 324,
      "outputs": [
        {
          "output_type": "stream",
          "name": "stdout",
          "text": [
            "636218184.283665\n"
          ]
        }
      ]
    },
    {
      "cell_type": "code",
      "source": [
        "arr3 = []\n",
        "sub = 0.0\n",
        "z = 0\n",
        "for i in new_df['net_profit']:\n",
        "  if z>103 and z<=111: #зима\n",
        "    coef = 0.43\n",
        "    sub += random.uniform(0, 0.03)\n",
        "    coef += sub\n",
        "    f = i * coef\n",
        "    arr3.append(f)\n",
        "  if z>111 and z<=125: #весна\n",
        "    coef = 0.45\n",
        "    sub += random.uniform(0, 0.03)\n",
        "    coef += sub\n",
        "    f = i * coef\n",
        "    arr3.append(f)\n",
        "  if z>125 and z<=138:   #лето\n",
        "    coef = 0.47\n",
        "    sub += random.uniform(0, 0.03)\n",
        "    coef += sub\n",
        "    f = i * coef\n",
        "    arr3.append(f)\n",
        "  if z>138 and z<=151:   #осень\n",
        "    coef = 0.45\n",
        "    sub += random.uniform(0, 0.03)\n",
        "    coef += sub\n",
        "    f = i * coef\n",
        "    arr3.append(f)\n",
        "  if z>151 and z<=155:      #декабрь\n",
        "    coef = 0.43\n",
        "    sub += random.uniform(0, 0.03)\n",
        "    coef += sub\n",
        "    f = i * coef\n",
        "    arr3.append(f)\n",
        "  z+=1\n",
        "print(sum(arr3))"
      ],
      "metadata": {
        "colab": {
          "base_uri": "https://localhost:8080/"
        },
        "id": "HtPI6TOj2O8s",
        "outputId": "25ce37af-ef6e-4f24-cb3e-8eeb3a6fc894"
      },
      "execution_count": 325,
      "outputs": [
        {
          "output_type": "stream",
          "name": "stdout",
          "text": [
            "2737834621211.967\n"
          ]
        }
      ]
    },
    {
      "cell_type": "code",
      "source": [
        "arr4 = []\n",
        "sub = 0.0\n",
        "z = 0\n",
        "for i in new_df['net_profit']:\n",
        "  if z>155 and z<=164: #зима\n",
        "    coef = 0.48\n",
        "    sub += random.uniform(0, 0.03)\n",
        "    coef += sub\n",
        "    f = i * coef\n",
        "    arr4.append(f)\n",
        "  if z>164 and z<=177: #весна\n",
        "    coef = 0.50\n",
        "    sub += random.uniform(0, 0.03)\n",
        "    coef += sub\n",
        "    f = i * coef\n",
        "    arr4.append(f)\n",
        "  if z>177 and z<=190:   #лето\n",
        "    coef = 0.52\n",
        "    sub += random.uniform(0, 0.03)\n",
        "    coef += sub\n",
        "    f = i * coef\n",
        "    arr4.append(f)\n",
        "  if z>190 and z<=203:   #осень\n",
        "    coef = 0.50\n",
        "    sub += random.uniform(0, 0.03)\n",
        "    coef += sub\n",
        "    f = i * coef\n",
        "    arr4.append(f)\n",
        "  if z>203 and z<=207:      #декабрь\n",
        "    coef = 0.48\n",
        "    sub += random.uniform(0, 0.03)\n",
        "    coef += sub\n",
        "    f = i * coef\n",
        "    arr4.append(f)\n",
        "  z+=1\n",
        "print(sum(arr4))"
      ],
      "metadata": {
        "colab": {
          "base_uri": "https://localhost:8080/"
        },
        "id": "2W_CYWlI3ofo",
        "outputId": "5a1b7a97-8e80-4990-94fd-79042656f7f2"
      },
      "execution_count": 326,
      "outputs": [
        {
          "output_type": "stream",
          "name": "stdout",
          "text": [
            "1525153642783.172\n"
          ]
        }
      ]
    },
    {
      "cell_type": "code",
      "source": [
        "arr5 = []\n",
        "sub = 0.0\n",
        "z = 0\n",
        "for i in new_df['net_profit']:\n",
        "  if z>207 and z<=216: #зима\n",
        "    coef = 0.50\n",
        "    sub += random.uniform(0, 0.03)\n",
        "    coef += sub\n",
        "    f = i * coef\n",
        "    arr5.append(f)\n",
        "  if z>216 and z<=229: #весна\n",
        "    coef = 0.52\n",
        "    sub += random.uniform(0, 0.03)\n",
        "    coef += sub\n",
        "    f = i * coef\n",
        "    arr5.append(f)\n",
        "  if z>229 and z<=242:   #лето\n",
        "    coef = 0.54\n",
        "    sub += random.uniform(0, 0.03)\n",
        "    coef += sub\n",
        "    f = i * coef\n",
        "    arr5.append(f)\n",
        "  if z>242 and z<=255:   #осень\n",
        "    coef = 0.52\n",
        "    sub += random.uniform(0, 0.03)\n",
        "    coef += sub\n",
        "    f = i * coef\n",
        "    arr5.append(f)\n",
        "  if z>255 and z<=260:      #декабрь\n",
        "    coef = 0.50\n",
        "    sub += random.uniform(0, 0.03)\n",
        "    coef += sub\n",
        "    f = i * coef\n",
        "    arr5.append(f)\n",
        "  z+=1\n",
        "print(sum(arr5))"
      ],
      "metadata": {
        "colab": {
          "base_uri": "https://localhost:8080/"
        },
        "id": "OpkUYvGf5jF5",
        "outputId": "fbafa833-3f1b-4f6f-ecb9-02cd1d99c6e1"
      },
      "execution_count": 327,
      "outputs": [
        {
          "output_type": "stream",
          "name": "stdout",
          "text": [
            "2315034523248.612\n"
          ]
        }
      ]
    },
    {
      "cell_type": "code",
      "source": [
        "arr6 = []\n",
        "sub = 0.0\n",
        "z = 0\n",
        "for i in new_df['net_profit']:\n",
        "  if z>260 and z<=268: #зима\n",
        "    coef = 0.50\n",
        "    sub += random.uniform(0, 0.03)\n",
        "    coef += sub\n",
        "    f = i * coef\n",
        "    arr6.append(f)\n",
        "  if z>268 and z<=281: #весна\n",
        "    coef = 0.52\n",
        "    sub += random.uniform(0, 0.03)\n",
        "    coef += sub\n",
        "    f = i * coef\n",
        "    arr6.append(f)\n",
        "  if z>281 and z<=294:   #лето\n",
        "    coef = 0.54\n",
        "    sub += random.uniform(0, 0.03)\n",
        "    coef += sub\n",
        "    f = i * coef\n",
        "    arr6.append(f)\n",
        "  if z>294 and z<=307:   #осень\n",
        "    coef = 0.52\n",
        "    sub += random.uniform(0, 0.03)\n",
        "    coef += sub\n",
        "    f = i * coef\n",
        "    arr6.append(f)\n",
        "  if z>307 and z<=312:      #декабрь\n",
        "    coef = 0.50\n",
        "    sub += random.uniform(0, 0.03)\n",
        "    coef += sub\n",
        "    f = i * coef\n",
        "    arr6.append(f)\n",
        "  z+=1\n",
        "print(sum(arr6))"
      ],
      "metadata": {
        "colab": {
          "base_uri": "https://localhost:8080/"
        },
        "id": "U6FSDBuO64op",
        "outputId": "b0af7a29-5f72-4b4d-ea75-8bfc1068fa34"
      },
      "execution_count": 328,
      "outputs": [
        {
          "output_type": "stream",
          "name": "stdout",
          "text": [
            "2661439175898.695\n"
          ]
        }
      ]
    },
    {
      "cell_type": "code",
      "source": [
        "arr7 = []\n",
        "sub = 0.0\n",
        "z = 0\n",
        "for i in new_df['net_profit']:\n",
        "  if z>312 and z<=320: #зима\n",
        "    coef = 0.51\n",
        "    sub += random.uniform(0, 0.03)\n",
        "    coef += sub\n",
        "    f = i * coef\n",
        "    arr7.append(f)\n",
        "  if z>320 and z<=333: #весна\n",
        "    coef = 0.53\n",
        "    sub += random.uniform(0, 0.03)\n",
        "    coef += sub\n",
        "    f = i * coef\n",
        "    arr7.append(f)\n",
        "  if z>333 and z<=346:   #лето\n",
        "    coef = 0.55\n",
        "    sub += random.uniform(0, 0.03)\n",
        "    coef += sub\n",
        "    f = i * coef\n",
        "    arr7.append(f)\n",
        "  if z>346 and z<=359:   #осень\n",
        "    coef = 0.53\n",
        "    sub += random.uniform(0, 0.03)\n",
        "    coef += sub\n",
        "    f = i * coef\n",
        "    arr7.append(f)\n",
        "  if z>359 and z<=364:      #декабрь\n",
        "    coef = 0.51\n",
        "    sub += random.uniform(0, 0.03)\n",
        "    coef += sub\n",
        "    f = i * coef\n",
        "    arr7.append(f)\n",
        "  z+=1\n",
        "print(sum(arr7))"
      ],
      "metadata": {
        "colab": {
          "base_uri": "https://localhost:8080/"
        },
        "id": "qjcDjhIW79S1",
        "outputId": "d0808d86-74bd-4b84-b384-810a0a25c20c"
      },
      "execution_count": 329,
      "outputs": [
        {
          "output_type": "stream",
          "name": "stdout",
          "text": [
            "1039611095212.6938\n"
          ]
        }
      ]
    },
    {
      "cell_type": "code",
      "source": [
        "arr8 = []\n",
        "sub = 0.0\n",
        "z = 0\n",
        "for i in new_df['net_profit']:\n",
        "  if z>364 and z<=372: #зима\n",
        "    coef = 0.50\n",
        "    sub += random.uniform(0, 0.03)\n",
        "    coef += sub\n",
        "    f = i * coef\n",
        "    arr8.append(f)\n",
        "  if z>372 and z<=386: #весна\n",
        "    coef = 0.52\n",
        "    sub += random.uniform(0, 0.03)\n",
        "    coef += sub\n",
        "    f = i * coef\n",
        "    arr8.append(f)\n",
        "  if z>386 and z<=399:   #лето\n",
        "    coef = 0.55\n",
        "    sub += random.uniform(0, 0.03)\n",
        "    coef += sub\n",
        "    f = i * coef\n",
        "    arr8.append(f)\n",
        "  if z>399 and z<=412:   #осень\n",
        "    coef = 0.51\n",
        "    sub += random.uniform(0, 0.03)\n",
        "    coef += sub\n",
        "    f = i * coef\n",
        "    arr8.append(f)\n",
        "  if z>412 and z<=416:      #декабрь\n",
        "    coef = 0.50\n",
        "    sub += random.uniform(0, 0.03)\n",
        "    coef += sub\n",
        "    f = i * coef\n",
        "    arr8.append(f)\n",
        "  z+=1\n",
        "print(sum(arr8))"
      ],
      "metadata": {
        "colab": {
          "base_uri": "https://localhost:8080/"
        },
        "id": "NZegW80583kM",
        "outputId": "26d86134-c384-455a-d4fe-a2ea4b1b7df2"
      },
      "execution_count": 330,
      "outputs": [
        {
          "output_type": "stream",
          "name": "stdout",
          "text": [
            "2395227636624.8877\n"
          ]
        }
      ]
    },
    {
      "cell_type": "code",
      "source": [
        "arr9 = []\n",
        "sub = 0.0\n",
        "z = 0\n",
        "for i in new_df['net_profit']:\n",
        "  if z>416 and z<=425: #зима\n",
        "    coef = 0.49\n",
        "    sub += random.uniform(0, 0.03)\n",
        "    coef += sub\n",
        "    f = i * coef\n",
        "    arr9.append(f)\n",
        "  if z>425 and z<=438: #весна\n",
        "    coef = 0.51\n",
        "    sub += random.uniform(0, 0.03)\n",
        "    coef += sub\n",
        "    f = i * coef\n",
        "    arr9.append(f)\n",
        "  if z>438 and z<=451:   #лето\n",
        "    coef = 0.53\n",
        "    sub += random.uniform(0, 0.03)\n",
        "    coef += sub\n",
        "    f = i * coef\n",
        "    arr9.append(f)\n",
        "  if z>451 and z<=464:   #осень\n",
        "    coef = 0.50\n",
        "    sub += random.uniform(0, 0.03)\n",
        "    coef += sub\n",
        "    f = i * coef\n",
        "    arr9.append(f)\n",
        "  if z>464 and z<=469:      #декабрь\n",
        "    coef = 0.48\n",
        "    sub += random.uniform(0, 0.03)\n",
        "    coef += sub\n",
        "    f = i * coef\n",
        "    arr9.append(f)\n",
        "  z+=1\n",
        "print(sum(arr9))"
      ],
      "metadata": {
        "colab": {
          "base_uri": "https://localhost:8080/"
        },
        "id": "V3dQbUS7960L",
        "outputId": "1edf2697-f249-4ec9-a0b5-e25978904b96"
      },
      "execution_count": 331,
      "outputs": [
        {
          "output_type": "stream",
          "name": "stdout",
          "text": [
            "1790033842848.998\n"
          ]
        }
      ]
    },
    {
      "cell_type": "code",
      "source": [
        "arr_net_profit = []\n",
        "arr_net_profit.extend(arr)\n",
        "arr_net_profit.extend(arr2)\n",
        "arr_net_profit.extend(arr3)\n",
        "arr_net_profit.extend(arr4)\n",
        "arr_net_profit.extend(arr5)\n",
        "arr_net_profit.extend(arr6)\n",
        "arr_net_profit.extend(arr7)\n",
        "arr_net_profit.extend(arr8)\n",
        "arr_net_profit.extend(arr9)\n",
        "print(arr_net_profit)"
      ],
      "metadata": {
        "colab": {
          "base_uri": "https://localhost:8080/"
        },
        "id": "lG1830Xrr7Ub",
        "outputId": "556fa9d5-2004-4cec-86ec-90f19228c6a2"
      },
      "execution_count": 332,
      "outputs": [
        {
          "output_type": "stream",
          "name": "stdout",
          "text": [
            "[10786335.15781411, 11065871.229143413, 11375838.757773472, 11513782.025287053, 11745643.390204614, 11897077.444589691, 11939057.30089821, 12171184.62135334, 12585753.421450222, 12896576.998832723, 13211110.600385312, 13344197.116145412, 13456910.884184143, 13463982.192234693, 13660495.66117724, 13800277.11863956, 14104002.25685813, 14263547.57811405, 14360772.53462561, 14476967.112740807, 14521216.695380589, 14863188.72782301, 15169468.448323274, 15245880.634825153, 15309041.698500294, 15568456.14708647, 15705694.281844234, 15936710.83337239, 16076845.141287494, 16078643.386824839, 16322530.31541916, 16369187.304232003, 16465218.631957209, 16668639.003359813, 16554774.033674438, 16658954.209716987, 16698954.891072236, 16994085.395475186, 16996590.295528382, 17047203.335477702, 17318124.382965397, 17374539.618950155, 17478883.549950693, 17546593.779428612, 17862378.066388264, 18046672.329301354, 18055525.285718046, 18025670.753757935, 18126873.958322857, 18417076.856571253, 18479033.111725323, 18579606.717552017, 14396071.755096791, 7358732.762455736, 7499717.822880021, 7824520.966635355, 7899963.708271742, 8190710.96006126, 8394859.361387424, 8520524.738420926, 8880020.952957237, 9083425.146998366, 9270119.67775062, 9596823.876790207, 9912976.582277516, 9986122.507390292, 10330332.718549488, 10354315.541385198, 10453488.797778273, 10752642.446603581, 11103421.723223228, 11220892.784064827, 11348267.953688033, 11789161.948787132, 11827066.35547284, 12059041.300391113, 12412712.845488371, 12426254.416466027, 12616995.602265766, 12985871.988292992, 13271771.603035111, 13345837.201052273, 13577880.49553712, 13693892.237171978, 13721176.523572344, 13793488.672794988, 13928542.756290557, 14050199.864349062, 14373535.450557867, 14516153.387787353, 14695638.040540395, 14987939.459813327, 15134387.098178362, 15463459.472697968, 15668531.231068872, 15961232.077385098, 16222691.978236742, 16414061.405321358, 16504814.434598181, 16508888.46467151, 16420635.75586979, 16485966.909678457, 16614889.092222264, 16763585.184500545, 26264464436.883133, 27669494848.92138, 28172740653.160133, 28941767422.243637, 29349972943.583214, 30897005368.631123, 31648545021.80045, 32224197391.09357, 34709765801.97917, 36231363374.129845, 37365188436.9142, 38922998276.37301, 40704495403.480385, 41512734205.79044, 43034939674.61927, 44568602510.81003, 44584073250.560776, 45389808406.000435, 46900252656.0544, 48491998856.11275, 49470378405.19078, 50313304054.701195, 52946701930.87537, 53420085583.19557, 53593565741.70234, 54579329634.17565, 55986759564.574104, 57465368307.19685, 58433553176.296555, 59202334395.81353, 59996323677.40396, 60242880383.21474, 60488542152.614174, 61368899227.4907, 62007294621.50088, 61814439856.1487, 63439114678.34851, 64225899174.79579, 64501978091.26249, 65862601135.676155, 67304133180.34235, 67473604443.03453, 67700931630.257996, 67797979558.15132, 69101095284.39658, 69532236996.74933, 69703865829.33011, 70253363071.77025, 69173295495.88838, 69644283222.47865, 71131678158.9757, 72074391609.27194, 17041452558.33054, 17063803096.871943, 17375176221.470978, 17634560771.108635, 18187287286.57155, 18206082959.761967, 18637218836.131233, 19121303758.255997, 19299129347.560577, 20817685652.62103, 21036004715.09743, 21642581025.431297, 22547249358.798615, 22623357986.194527, 22847897284.944275, 23847363647.40195, 24773354792.04903, 25647168527.45285, 25764713374.82251, 25782264740.02692, 25891159089.559452, 25935426550.69533, 26916540001.181644, 27876283842.23216, 28284233756.035275, 29234289879.5001, 29470735670.617386, 30020652269.079895, 30542901812.345516, 31292854459.760212, 31700142512.15411, 32730043299.103897, 33168761235.648647, 33253443966.004265, 33454971865.971375, 33781849050.013332, 34561686951.88235, 35112162822.04593, 35904088251.02062, 36595605167.28764, 36753046014.63642, 37314503741.183334, 37705299683.67135, 38519126128.81255, 39296257824.619125, 40052541287.4845, 41043291377.678, 41061167518.25826, 41156720152.20426, 41558199897.84738, 42208791720.780106, 42861209042.95377, 23887875113.37249, 24689608349.273182, 25435321856.49176, 26053455391.52332, 26205293453.138206, 27327253867.749237, 28010778983.404194, 28058702526.481415, 29171396458.076866, 30649411313.267353, 31991286696.9379, 33015314205.03953, 33251068186.29847, 34121746063.501526, 34228508218.88208, 35571805748.985535, 36006306906.59476, 36253104657.67665, 36566594703.15453, 37459332710.797195, 38376928743.008705, 38984181944.93665, 40833337857.362816, 41420667928.43184, 42678326012.60484, 43308269008.215614, 44396980155.01979, 44816890648.10732, 45773185834.37798, 45986699784.63794, 47191352667.24372, 47293342720.92599, 47993278615.422295, 49190215054.97801, 49786882864.021065, 49752717700.287025, 51055370406.45042, 51085683172.1456, 52426938117.58823, 53552267257.35356, 54363912192.937935, 55217807577.84323, 55262645261.99092, 56296763078.341484, 56925447709.7766, 57867547136.74341, 59020127230.11103, 59169339148.537094, 59246731681.85591, 59745694586.90617, 59794107762.94831, 59871225098.72758, 78395492878.12625, 30688848840.981426, 31081103580.89813, 31296753293.631752, 32060188691.570995, 32922378696.17286, 34184837264.140945, 34573651934.25598, 35188059682.36423, 36641783009.02738, 37837878393.94701, 39124874669.128006, 40584852024.776566, 41460281918.97256, 41627396258.816444, 41955785372.28654, 43171236232.87965, 43735883388.9307, 45405175200.46859, 45639677136.1362, 46576944882.877304, 46668852408.2256, 49296360959.72134, 49768595405.87309, 50914552329.13846, 51690009457.288445, 52975916441.39169, 54489627143.45099, 54688768363.67678, 54922167950.6756, 55346329723.21253, 56389626565.766716, 56856973667.32956, 56972310909.70944, 58678662862.294136, 57735083836.96466, 58458281653.046646, 58657555235.74212, 59526362216.70803, 60908377553.46852, 62191561025.48377, 63854872293.858345, 65371482833.2235, 67135197963.211136, 68697474171.07234, 70440388431.81935, 70654720053.86154, 70923419956.88448, 70257850346.35439, 71025994962.34492, 71250934607.50978, 72924255929.81633, 26009018167.307625, 10962612951.916258, 11066933124.471016, 11156360860.18326, 11264871002.281507, 11427498332.404219, 11437819052.104362, 11984342036.820028, 12586086993.356438, 13293431451.740257, 13695585575.098183, 13791431950.985807, 13936821698.443249, 14552316501.344889, 15141392569.746023, 15493543211.052532, 15902676649.557325, 16508822450.411543, 16985894152.708216, 17485470053.67154, 17616072263.148403, 17830478056.23779, 18776535988.0372, 19267819049.751183, 19576446644.537117, 20086793713.08476, 20481800194.235317, 20488806224.55841, 20759781467.770412, 21071085735.99616, 21493674307.81169, 22102830587.89551, 22131261235.20143, 22428722777.67426, 22486626151.54702, 22219405848.921925, 22406597013.30326, 22583856820.612423, 22974463957.957302, 23317821825.667397, 23435922598.643856, 23605392043.188107, 24038999228.988667, 24345704809.307594, 24391976891.350895, 24530144889.386005, 24533991092.090332, 24882445001.713932, 24761025601.228188, 25095974698.931717, 25687373608.306717, 25768401179.8867, 65758953087.42569, 27670802014.71849, 27713691513.153015, 28578869688.23037, 28694164595.221684, 29784731757.763935, 30552649079.987423, 31821800478.25722, 32649135107.51692, 34595257483.973694, 35758308902.24157, 36082609506.43791, 37088548134.55262, 37174165152.465, 38267698930.119896, 38571233283.9332, 38669405394.99676, 38689034367.06962, 39926410936.38568, 40150585128.86254, 41397078475.85443, 41500130801.31561, 41708753652.4984, 44232083361.27908, 44464028344.623314, 45521625502.78077, 47092079420.333725, 47765632194.33861, 49075035359.22853, 49571513179.926506, 49677829872.73721, 50114438130.79608, 51223383910.36205, 51604754986.50489, 53018353175.56746, 53203978844.209724, 52093869064.35111, 53348982337.5729, 53754068538.00034, 54264742296.59545, 54924642611.33769, 55878520827.52202, 57404660979.50657, 57859070930.33955, 58325473332.91489, 59759941848.186516, 61135873834.493484, 61909915127.50258, 63415859839.71888, 63892016755.657135, 63985550610.25155, 64851380894.729805, 44813266127.96305, 18465107894.183094, 19530028543.68498, 20453328717.80762, 21309540748.60361, 22226088871.75402, 22474941909.57713, 23427141524.068756, 23666941697.122055, 24467992995.543446, 26016277479.926838, 26296404980.734398, 26691628293.292202, 27518847692.136986, 27853762529.877903, 28316142183.43915, 29115214643.78947, 29131414392.14839, 29886508172.123993, 30650948140.135765, 30957472034.199574, 31362950012.485394, 31964329593.580715, 33604022352.548275, 34244281012.530792, 34631085269.8648, 34878606470.964424, 35287800446.13103, 35925080350.467445, 36880790408.454765, 37274676388.518845, 37714763522.187744, 38352697622.223564, 38976233138.11639, 39876346384.03718, 40454045380.97551, 39881892103.0392, 39951671758.202675, 40347296364.23739, 41103562617.66361, 41763133654.48923, 41784937634.12888, 42682937307.100624, 43536762705.15267, 43951771738.65317, 44204668204.72592, 44970237435.93978, 45268091940.30415, 45409945179.78952, 45510436199.18169, 45885525977.86464, 46731583466.12014, 47165946765.16928]\n"
          ]
        }
      ]
    },
    {
      "cell_type": "code",
      "source": [
        "mas = []\n",
        "for i in arr_net_profit:\n",
        "\n",
        "  mas.append(round(i))\n",
        "len(mas)\n",
        "print(mas)"
      ],
      "metadata": {
        "colab": {
          "base_uri": "https://localhost:8080/"
        },
        "id": "1M_MGIvEFzKF",
        "outputId": "a5fbdb6a-922d-4d0f-9796-9f443387de94"
      },
      "execution_count": 333,
      "outputs": [
        {
          "output_type": "stream",
          "name": "stdout",
          "text": [
            "[10786335, 11065871, 11375839, 11513782, 11745643, 11897077, 11939057, 12171185, 12585753, 12896577, 13211111, 13344197, 13456911, 13463982, 13660496, 13800277, 14104002, 14263548, 14360773, 14476967, 14521217, 14863189, 15169468, 15245881, 15309042, 15568456, 15705694, 15936711, 16076845, 16078643, 16322530, 16369187, 16465219, 16668639, 16554774, 16658954, 16698955, 16994085, 16996590, 17047203, 17318124, 17374540, 17478884, 17546594, 17862378, 18046672, 18055525, 18025671, 18126874, 18417077, 18479033, 18579607, 14396072, 7358733, 7499718, 7824521, 7899964, 8190711, 8394859, 8520525, 8880021, 9083425, 9270120, 9596824, 9912977, 9986123, 10330333, 10354316, 10453489, 10752642, 11103422, 11220893, 11348268, 11789162, 11827066, 12059041, 12412713, 12426254, 12616996, 12985872, 13271772, 13345837, 13577880, 13693892, 13721177, 13793489, 13928543, 14050200, 14373535, 14516153, 14695638, 14987939, 15134387, 15463459, 15668531, 15961232, 16222692, 16414061, 16504814, 16508888, 16420636, 16485967, 16614889, 16763585, 26264464437, 27669494849, 28172740653, 28941767422, 29349972944, 30897005369, 31648545022, 32224197391, 34709765802, 36231363374, 37365188437, 38922998276, 40704495403, 41512734206, 43034939675, 44568602511, 44584073251, 45389808406, 46900252656, 48491998856, 49470378405, 50313304055, 52946701931, 53420085583, 53593565742, 54579329634, 55986759565, 57465368307, 58433553176, 59202334396, 59996323677, 60242880383, 60488542153, 61368899227, 62007294622, 61814439856, 63439114678, 64225899175, 64501978091, 65862601136, 67304133180, 67473604443, 67700931630, 67797979558, 69101095284, 69532236997, 69703865829, 70253363072, 69173295496, 69644283222, 71131678159, 72074391609, 17041452558, 17063803097, 17375176221, 17634560771, 18187287287, 18206082960, 18637218836, 19121303758, 19299129348, 20817685653, 21036004715, 21642581025, 22547249359, 22623357986, 22847897285, 23847363647, 24773354792, 25647168527, 25764713375, 25782264740, 25891159090, 25935426551, 26916540001, 27876283842, 28284233756, 29234289880, 29470735671, 30020652269, 30542901812, 31292854460, 31700142512, 32730043299, 33168761236, 33253443966, 33454971866, 33781849050, 34561686952, 35112162822, 35904088251, 36595605167, 36753046015, 37314503741, 37705299684, 38519126129, 39296257825, 40052541287, 41043291378, 41061167518, 41156720152, 41558199898, 42208791721, 42861209043, 23887875113, 24689608349, 25435321856, 26053455392, 26205293453, 27327253868, 28010778983, 28058702526, 29171396458, 30649411313, 31991286697, 33015314205, 33251068186, 34121746064, 34228508219, 35571805749, 36006306907, 36253104658, 36566594703, 37459332711, 38376928743, 38984181945, 40833337857, 41420667928, 42678326013, 43308269008, 44396980155, 44816890648, 45773185834, 45986699785, 47191352667, 47293342721, 47993278615, 49190215055, 49786882864, 49752717700, 51055370406, 51085683172, 52426938118, 53552267257, 54363912193, 55217807578, 55262645262, 56296763078, 56925447710, 57867547137, 59020127230, 59169339149, 59246731682, 59745694587, 59794107763, 59871225099, 78395492878, 30688848841, 31081103581, 31296753294, 32060188692, 32922378696, 34184837264, 34573651934, 35188059682, 36641783009, 37837878394, 39124874669, 40584852025, 41460281919, 41627396259, 41955785372, 43171236233, 43735883389, 45405175200, 45639677136, 46576944883, 46668852408, 49296360960, 49768595406, 50914552329, 51690009457, 52975916441, 54489627143, 54688768364, 54922167951, 55346329723, 56389626566, 56856973667, 56972310910, 58678662862, 57735083837, 58458281653, 58657555236, 59526362217, 60908377553, 62191561025, 63854872294, 65371482833, 67135197963, 68697474171, 70440388432, 70654720054, 70923419957, 70257850346, 71025994962, 71250934608, 72924255930, 26009018167, 10962612952, 11066933124, 11156360860, 11264871002, 11427498332, 11437819052, 11984342037, 12586086993, 13293431452, 13695585575, 13791431951, 13936821698, 14552316501, 15141392570, 15493543211, 15902676650, 16508822450, 16985894153, 17485470054, 17616072263, 17830478056, 18776535988, 19267819050, 19576446645, 20086793713, 20481800194, 20488806225, 20759781468, 21071085736, 21493674308, 22102830588, 22131261235, 22428722778, 22486626152, 22219405849, 22406597013, 22583856821, 22974463958, 23317821826, 23435922599, 23605392043, 24038999229, 24345704809, 24391976891, 24530144889, 24533991092, 24882445002, 24761025601, 25095974699, 25687373608, 25768401180, 65758953087, 27670802015, 27713691513, 28578869688, 28694164595, 29784731758, 30552649080, 31821800478, 32649135108, 34595257484, 35758308902, 36082609506, 37088548135, 37174165152, 38267698930, 38571233284, 38669405395, 38689034367, 39926410936, 40150585129, 41397078476, 41500130801, 41708753652, 44232083361, 44464028345, 45521625503, 47092079420, 47765632194, 49075035359, 49571513180, 49677829873, 50114438131, 51223383910, 51604754987, 53018353176, 53203978844, 52093869064, 53348982338, 53754068538, 54264742297, 54924642611, 55878520828, 57404660980, 57859070930, 58325473333, 59759941848, 61135873834, 61909915128, 63415859840, 63892016756, 63985550610, 64851380895, 44813266128, 18465107894, 19530028544, 20453328718, 21309540749, 22226088872, 22474941910, 23427141524, 23666941697, 24467992996, 26016277480, 26296404981, 26691628293, 27518847692, 27853762530, 28316142183, 29115214644, 29131414392, 29886508172, 30650948140, 30957472034, 31362950012, 31964329594, 33604022353, 34244281013, 34631085270, 34878606471, 35287800446, 35925080350, 36880790408, 37274676389, 37714763522, 38352697622, 38976233138, 39876346384, 40454045381, 39881892103, 39951671758, 40347296364, 41103562618, 41763133654, 41784937634, 42682937307, 43536762705, 43951771739, 44204668205, 44970237436, 45268091940, 45409945180, 45510436199, 45885525978, 46731583466, 47165946765]\n"
          ]
        }
      ]
    },
    {
      "cell_type": "code",
      "source": [
        "new_df['net_profit'] = mas\n",
        "new_df"
      ],
      "metadata": {
        "colab": {
          "base_uri": "https://localhost:8080/",
          "height": 423
        },
        "id": "j7zsyRxLDgmb",
        "outputId": "6cda6895-4518-4e92-a03a-9c2c068e078d"
      },
      "execution_count": 334,
      "outputs": [
        {
          "output_type": "execute_result",
          "data": {
            "text/plain": [
              "         weaks   net_profit\n",
              "0   2013-01-06     10786335\n",
              "1   2013-01-13     11065871\n",
              "2   2013-01-20     11375839\n",
              "3   2013-01-27     11513782\n",
              "4   2013-02-03     11745643\n",
              "..         ...          ...\n",
              "464 2021-11-28  45409945180\n",
              "465 2021-12-05  45510436199\n",
              "466 2021-12-12  45885525978\n",
              "467 2021-12-19  46731583466\n",
              "468 2021-12-26  47165946765\n",
              "\n",
              "[469 rows x 2 columns]"
            ],
            "text/html": [
              "\n",
              "  <div id=\"df-326ece7d-e801-4a80-ac9e-bcb0d1d0a5a6\">\n",
              "    <div class=\"colab-df-container\">\n",
              "      <div>\n",
              "<style scoped>\n",
              "    .dataframe tbody tr th:only-of-type {\n",
              "        vertical-align: middle;\n",
              "    }\n",
              "\n",
              "    .dataframe tbody tr th {\n",
              "        vertical-align: top;\n",
              "    }\n",
              "\n",
              "    .dataframe thead th {\n",
              "        text-align: right;\n",
              "    }\n",
              "</style>\n",
              "<table border=\"1\" class=\"dataframe\">\n",
              "  <thead>\n",
              "    <tr style=\"text-align: right;\">\n",
              "      <th></th>\n",
              "      <th>weaks</th>\n",
              "      <th>net_profit</th>\n",
              "    </tr>\n",
              "  </thead>\n",
              "  <tbody>\n",
              "    <tr>\n",
              "      <th>0</th>\n",
              "      <td>2013-01-06</td>\n",
              "      <td>10786335</td>\n",
              "    </tr>\n",
              "    <tr>\n",
              "      <th>1</th>\n",
              "      <td>2013-01-13</td>\n",
              "      <td>11065871</td>\n",
              "    </tr>\n",
              "    <tr>\n",
              "      <th>2</th>\n",
              "      <td>2013-01-20</td>\n",
              "      <td>11375839</td>\n",
              "    </tr>\n",
              "    <tr>\n",
              "      <th>3</th>\n",
              "      <td>2013-01-27</td>\n",
              "      <td>11513782</td>\n",
              "    </tr>\n",
              "    <tr>\n",
              "      <th>4</th>\n",
              "      <td>2013-02-03</td>\n",
              "      <td>11745643</td>\n",
              "    </tr>\n",
              "    <tr>\n",
              "      <th>...</th>\n",
              "      <td>...</td>\n",
              "      <td>...</td>\n",
              "    </tr>\n",
              "    <tr>\n",
              "      <th>464</th>\n",
              "      <td>2021-11-28</td>\n",
              "      <td>45409945180</td>\n",
              "    </tr>\n",
              "    <tr>\n",
              "      <th>465</th>\n",
              "      <td>2021-12-05</td>\n",
              "      <td>45510436199</td>\n",
              "    </tr>\n",
              "    <tr>\n",
              "      <th>466</th>\n",
              "      <td>2021-12-12</td>\n",
              "      <td>45885525978</td>\n",
              "    </tr>\n",
              "    <tr>\n",
              "      <th>467</th>\n",
              "      <td>2021-12-19</td>\n",
              "      <td>46731583466</td>\n",
              "    </tr>\n",
              "    <tr>\n",
              "      <th>468</th>\n",
              "      <td>2021-12-26</td>\n",
              "      <td>47165946765</td>\n",
              "    </tr>\n",
              "  </tbody>\n",
              "</table>\n",
              "<p>469 rows × 2 columns</p>\n",
              "</div>\n",
              "      <button class=\"colab-df-convert\" onclick=\"convertToInteractive('df-326ece7d-e801-4a80-ac9e-bcb0d1d0a5a6')\"\n",
              "              title=\"Convert this dataframe to an interactive table.\"\n",
              "              style=\"display:none;\">\n",
              "        \n",
              "  <svg xmlns=\"http://www.w3.org/2000/svg\" height=\"24px\"viewBox=\"0 0 24 24\"\n",
              "       width=\"24px\">\n",
              "    <path d=\"M0 0h24v24H0V0z\" fill=\"none\"/>\n",
              "    <path d=\"M18.56 5.44l.94 2.06.94-2.06 2.06-.94-2.06-.94-.94-2.06-.94 2.06-2.06.94zm-11 1L8.5 8.5l.94-2.06 2.06-.94-2.06-.94L8.5 2.5l-.94 2.06-2.06.94zm10 10l.94 2.06.94-2.06 2.06-.94-2.06-.94-.94-2.06-.94 2.06-2.06.94z\"/><path d=\"M17.41 7.96l-1.37-1.37c-.4-.4-.92-.59-1.43-.59-.52 0-1.04.2-1.43.59L10.3 9.45l-7.72 7.72c-.78.78-.78 2.05 0 2.83L4 21.41c.39.39.9.59 1.41.59.51 0 1.02-.2 1.41-.59l7.78-7.78 2.81-2.81c.8-.78.8-2.07 0-2.86zM5.41 20L4 18.59l7.72-7.72 1.47 1.35L5.41 20z\"/>\n",
              "  </svg>\n",
              "      </button>\n",
              "      \n",
              "  <style>\n",
              "    .colab-df-container {\n",
              "      display:flex;\n",
              "      flex-wrap:wrap;\n",
              "      gap: 12px;\n",
              "    }\n",
              "\n",
              "    .colab-df-convert {\n",
              "      background-color: #E8F0FE;\n",
              "      border: none;\n",
              "      border-radius: 50%;\n",
              "      cursor: pointer;\n",
              "      display: none;\n",
              "      fill: #1967D2;\n",
              "      height: 32px;\n",
              "      padding: 0 0 0 0;\n",
              "      width: 32px;\n",
              "    }\n",
              "\n",
              "    .colab-df-convert:hover {\n",
              "      background-color: #E2EBFA;\n",
              "      box-shadow: 0px 1px 2px rgba(60, 64, 67, 0.3), 0px 1px 3px 1px rgba(60, 64, 67, 0.15);\n",
              "      fill: #174EA6;\n",
              "    }\n",
              "\n",
              "    [theme=dark] .colab-df-convert {\n",
              "      background-color: #3B4455;\n",
              "      fill: #D2E3FC;\n",
              "    }\n",
              "\n",
              "    [theme=dark] .colab-df-convert:hover {\n",
              "      background-color: #434B5C;\n",
              "      box-shadow: 0px 1px 3px 1px rgba(0, 0, 0, 0.15);\n",
              "      filter: drop-shadow(0px 1px 2px rgba(0, 0, 0, 0.3));\n",
              "      fill: #FFFFFF;\n",
              "    }\n",
              "  </style>\n",
              "\n",
              "      <script>\n",
              "        const buttonEl =\n",
              "          document.querySelector('#df-326ece7d-e801-4a80-ac9e-bcb0d1d0a5a6 button.colab-df-convert');\n",
              "        buttonEl.style.display =\n",
              "          google.colab.kernel.accessAllowed ? 'block' : 'none';\n",
              "\n",
              "        async function convertToInteractive(key) {\n",
              "          const element = document.querySelector('#df-326ece7d-e801-4a80-ac9e-bcb0d1d0a5a6');\n",
              "          const dataTable =\n",
              "            await google.colab.kernel.invokeFunction('convertToInteractive',\n",
              "                                                     [key], {});\n",
              "          if (!dataTable) return;\n",
              "\n",
              "          const docLinkHtml = 'Like what you see? Visit the ' +\n",
              "            '<a target=\"_blank\" href=https://colab.research.google.com/notebooks/data_table.ipynb>data table notebook</a>'\n",
              "            + ' to learn more about interactive tables.';\n",
              "          element.innerHTML = '';\n",
              "          dataTable['output_type'] = 'display_data';\n",
              "          await google.colab.output.renderOutput(dataTable, element);\n",
              "          const docLink = document.createElement('div');\n",
              "          docLink.innerHTML = docLinkHtml;\n",
              "          element.appendChild(docLink);\n",
              "        }\n",
              "      </script>\n",
              "    </div>\n",
              "  </div>\n",
              "  "
            ]
          },
          "metadata": {},
          "execution_count": 334
        }
      ]
    },
    {
      "cell_type": "code",
      "source": [
        "new_df.to_csv('net_profit')"
      ],
      "metadata": {
        "id": "teVDlucI7KwW"
      },
      "execution_count": 335,
      "outputs": []
    },
    {
      "cell_type": "code",
      "source": [
        "plt.plot(new_df.weaks, new_df.net_profit, linewidth= 2) "
      ],
      "metadata": {
        "colab": {
          "base_uri": "https://localhost:8080/",
          "height": 462
        },
        "id": "ATnjVcWRK2Em",
        "outputId": "7f2b1079-8450-44b2-879a-1b0866b8a0ca"
      },
      "execution_count": 336,
      "outputs": [
        {
          "output_type": "execute_result",
          "data": {
            "text/plain": [
              "[<matplotlib.lines.Line2D at 0x7f66528eb2b0>]"
            ]
          },
          "metadata": {},
          "execution_count": 336
        },
        {
          "output_type": "display_data",
          "data": {
            "text/plain": [
              "<Figure size 640x480 with 1 Axes>"
            ],
            "image/png": "[encoded data removed]"
          },
          "metadata": {}
        }
      ]
    },
    {
      "cell_type": "code",
      "source": [
        "\n",
        "# w2013 = []\n",
        "# w2013 = new_df['net_profit'].iloc[0:8 or 47:53]\n",
        "# w2014 = []\n",
        "# w2014 = new_df['net_profit'].iloc[53:60 or 100:104]\n",
        "# w2015 = []\n",
        "# w2015 = new_df['net_profit'].iloc[104:112 or 152:156]\n",
        "# w2016 = []\n",
        "# w2016 = new_df['net_profit'].iloc[156:155 or 204:208]\n",
        "# w2017 = []\n",
        "# w2017 = new_df['net_profit'].iloc[208:218 or 256:261]\n",
        "# w2018 = []\n",
        "# w2018 = new_df['net_profit'].iloc[261:269 or 308:313]\n",
        "# w2019 = []\n",
        "# w2019 = new_df['net_profit'].iloc[313:321 or 360:365]\n",
        "# w2020 = []\n",
        "# w2020 = new_df['net_profit'].iloc[365:373 or 413:417]\n",
        "# w2021 = []\n",
        "# w2021 = new_df['net_profit'].iloc[417:426 or 465:470]\n"
      ],
      "metadata": {
        "id": "vk0jXs48NFZV"
      },
      "execution_count": 337,
      "outputs": []
    },
    {
      "cell_type": "code",
      "source": [
        "z = 0\n",
        "x = [1, 2, 3, 4, 5, 6, 7, 8, 9, 10, 11, 12]\n",
        "w13 = []\n",
        "w14 = []\n",
        "w15 = []\n",
        "w16 = []\n",
        "w17 = []\n",
        "w18 = []\n",
        "w19 = []\n",
        "w20 = []\n",
        "w21 = []\n",
        "for i in new_df['net_profit']:\n",
        "    if z <=7 or 46 < z < 51:\n",
        "        w13.append(i)\n",
        "    if 51 < z <= 59 or 99 < z <= 103:\n",
        "        w14.append(i)\n",
        "    if 103 < z <= 111 or 151 < z <= 155:\n",
        "        w15.append(i)\n",
        "    if 155 < z <= 164 or 203 < z < 207:\n",
        "        w16.append(i)\n",
        "    if 207 < z <= 216 or 255 < z < 259:\n",
        "        w17.append(i)\n",
        "    if 260 < z <= 268 or 307 < z < 312:\n",
        "        w18.append(i)\n",
        "    if 312 < z <= 320 or 359 < z < 364:\n",
        "        w19.append(i)\n",
        "    if 364 < z <= 372 or 412 < z <= 416:\n",
        "        w20.append(i)\n",
        "    if 416 < z < 425 or 464 < z <= 469:\n",
        "        w21.append(i)\n",
        "    z+= 1\n",
        "\n",
        "winter13 = w13 \n",
        "winter14 = w14\n",
        "winter15 = w15\n",
        "winter16 = w16\n",
        "winter17 = w17\n",
        "winter18 = w18\n",
        "winter19 = w19\n",
        "winter20 = w20\n",
        "winter21 = w21"
      ],
      "metadata": {
        "id": "LDeKSMzFGEro"
      },
      "execution_count": 338,
      "outputs": []
    },
    {
      "cell_type": "code",
      "source": [
        "plt.plot(x, winter13, color='#032e0f', label = '2013')\n",
        "plt.plot(x, winter14, color='#1400a3', label = '2014')\n",
        "plt.plot(x, winter15, color='#7d335b', label = '2015')\n",
        "plt.plot(x, winter16, color='#b00911', label = '2016')\n",
        "plt.plot(x, winter17, color='#018c85', label = '2017')\n",
        "plt.plot(x, winter18, color='#0e8c07', label = '2018')\n",
        "plt.plot(x, winter19, color='#e3e30e', label = '2019')\n",
        "plt.plot(x, winter20, color='#f07807', label = '2020')\n",
        "plt.plot(x, winter21, color='#7b047d', label = '2021')\n",
        "plt.xlabel('недели')\n",
        "plt.title('зима')\n",
        "plt.legend()\n",
        "plt.show()"
      ],
      "metadata": {
        "colab": {
          "base_uri": "https://localhost:8080/",
          "height": 472
        },
        "id": "Dp5eek9fpnQR",
        "outputId": "356d2254-7a99-4216-f0de-1277a9ae7686"
      },
      "execution_count": 339,
      "outputs": [
        {
          "output_type": "display_data",
          "data": {
            "text/plain": [
              "<Figure size 640x480 with 1 Axes>"
            ],
            "image/png": "[encoded data removed]"
          },
          "metadata": {}
        }
      ]
    },
    {
      "cell_type": "code",
      "source": [
        "z = 0\n",
        "x = [1, 2, 3, 4, 5, 6, 7, 8, 9, 10, 11, 12, 13]\n",
        "sp13 = []\n",
        "sp14 = []\n",
        "sp15 = []\n",
        "sp16 = []\n",
        "sp17 = []\n",
        "sp18 = []\n",
        "sp19 = []\n",
        "sp20 = []\n",
        "sp21 = []\n",
        "for i in new_df['net_profit']:\n",
        "    if 7 < z <= 20:\n",
        "        sp13.append(i)\n",
        "    if z>59 and z<=72:\n",
        "        sp14.append(i)\n",
        "    if 111 < z < 125:\n",
        "        sp15.append(i)\n",
        "    if z>164 and z<=177:\n",
        "        sp16.append(i)\n",
        "    if z>216 and z<=229:\n",
        "        sp17.append(i)\n",
        "    if z>268 and z<=281:\n",
        "        sp18.append(i)\n",
        "    if z>320 and z<=333:\n",
        "        sp19.append(i)\n",
        "    if z>372 and z<386:\n",
        "        sp20.append(i)\n",
        "    if z>425 and z<=438:\n",
        "        sp21.append(i)\n",
        "    z+= 1\n",
        "\n",
        "spring13 = sp13 \n",
        "spring14 = sp14\n",
        "spring15 = sp15\n",
        "spring16 = sp16\n",
        "spring17 = sp17\n",
        "spring18 = sp18\n",
        "spring19 = sp19\n",
        "spring20 = sp20\n",
        "spring21 = sp21\n"
      ],
      "metadata": {
        "id": "_7P_QW5uqIm6"
      },
      "execution_count": 340,
      "outputs": []
    },
    {
      "cell_type": "code",
      "source": [
        "plt.plot(x, spring13, color='#032e0f', label = '2013')\n",
        "plt.plot(x, spring14, color='#1400a3', label = '2014')\n",
        "plt.plot(x, spring15, color='#7d335b', label = '2015')\n",
        "plt.plot(x, spring16, color='#b00911', label = '2016')\n",
        "plt.plot(x, spring17, color='#018c85', label = '2017')\n",
        "plt.plot(x, spring18, color='#0e8c07', label = '2018')\n",
        "plt.plot(x, spring19, color='#e3e30e', label = '2019')\n",
        "plt.plot(x, spring20, color='#f07807', label = '2020')\n",
        "plt.plot(x, spring21, color='#7b047d', label = '2021')\n",
        "plt.xlabel('недели')\n",
        "plt.title('весна')\n",
        "plt.legend()\n",
        "plt.show()"
      ],
      "metadata": {
        "colab": {
          "base_uri": "https://localhost:8080/",
          "height": 472
        },
        "id": "0OBj1VxGRG1T",
        "outputId": "e7842ee3-659c-49a4-abb9-a782f1150eba"
      },
      "execution_count": 341,
      "outputs": [
        {
          "output_type": "display_data",
          "data": {
            "text/plain": [
              "<Figure size 640x480 with 1 Axes>"
            ],
            "image/png": "[encoded data removed]"
          },
          "metadata": {}
        }
      ]
    },
    {
      "cell_type": "code",
      "source": [
        "z = 0\n",
        "x = [1, 2, 3, 4, 5, 6, 7, 8, 9, 10, 11, 12, 13]\n",
        "s13 = []\n",
        "s14 = []\n",
        "s15 = []\n",
        "s16 = []\n",
        "s17 = []\n",
        "s18 = []\n",
        "s19 = []\n",
        "s20 = []\n",
        "s21 = []\n",
        "for i in new_df['net_profit']:\n",
        "    if 20 < z <= 33:\n",
        "        s13.append(i)\n",
        "    if 72 < z < 86:\n",
        "        s14.append(i)\n",
        "    if 125 < z <= 138:\n",
        "        s15.append(i)\n",
        "    if 177 < z <= 190:\n",
        "        s16.append(i)\n",
        "    if 229 < z <= 242:\n",
        "        s17.append(i)\n",
        "    if 281 < z <= 294:\n",
        "        s18.append(i)\n",
        "    if 333 < z <= 346:\n",
        "        s19.append(i)\n",
        "    if 386 < z <= 399:\n",
        "        s20.append(i)\n",
        "    if 438 < z <= 451:\n",
        "        s21.append(i)\n",
        "    z+= 1\n",
        "\n",
        "summer13 = s13 \n",
        "summer14 = s14\n",
        "summer15 = s15\n",
        "summer16 = s16\n",
        "summer17 = s17\n",
        "summer18 = s18\n",
        "summer19 = s19\n",
        "summer20 = s20\n",
        "summer21 = s21\n"
      ],
      "metadata": {
        "id": "eSEDPu8QTciv"
      },
      "execution_count": 342,
      "outputs": []
    },
    {
      "cell_type": "code",
      "source": [
        "plt.plot(x, summer13, color='#032e0f', label = '2013')\n",
        "plt.plot(x, summer14, color='#1400a3', label = '2014')\n",
        "plt.plot(x, summer15, color='#7d335b', label = '2015')\n",
        "plt.plot(x, summer16, color='#b00911', label = '2016')\n",
        "plt.plot(x, summer17, color='#018c85', label = '2017')\n",
        "plt.plot(x, summer18, color='#0e8c07', label = '2018')\n",
        "plt.plot(x, summer19, color='#e3e30e', label = '2019')\n",
        "plt.plot(x, summer20, color='#f07807', label = '2020')\n",
        "plt.plot(x, summer21, color='#7b047d', label = '2021')\n",
        "plt.xlabel('недели')\n",
        "plt.title('лето')\n",
        "plt.legend()\n",
        "plt.show()"
      ],
      "metadata": {
        "colab": {
          "base_uri": "https://localhost:8080/",
          "height": 472
        },
        "id": "fLCdjp_lUM09",
        "outputId": "cb362a11-4ea5-4ca8-e8b4-00338fbc4684"
      },
      "execution_count": 343,
      "outputs": [
        {
          "output_type": "display_data",
          "data": {
            "text/plain": [
              "<Figure size 640x480 with 1 Axes>"
            ],
            "image/png": "[encoded data removed]"
          },
          "metadata": {}
        }
      ]
    },
    {
      "cell_type": "code",
      "source": [
        "z = 0\n",
        "x = [1, 2, 3, 4, 5, 6, 7, 8, 9, 10, 11, 12, 13]\n",
        "a13 = []\n",
        "a14 = []\n",
        "a15 = []\n",
        "a16 = []\n",
        "a17 = []\n",
        "a18 = []\n",
        "a19 = []\n",
        "a20 = []\n",
        "a21 = []\n",
        "for i in new_df['net_profit']:\n",
        "    if 33 < z <= 46:\n",
        "        a13.append(i)\n",
        "    if 86 < z <= 99:\n",
        "        a14.append(i)\n",
        "    if 138 < z <= 151:\n",
        "        a15.append(i)\n",
        "    if 190 < z <= 203:\n",
        "        a16.append(i)\n",
        "    if 242 < z <= 255:\n",
        "        a17.append(i)\n",
        "    if 294 < z <= 307:\n",
        "        a18.append(i)\n",
        "    if 346 < z <= 359:\n",
        "        a19.append(i)\n",
        "    if 399 < z <= 412:\n",
        "        a20.append(i)\n",
        "    if 451 < z <= 464:\n",
        "        a21.append(i)\n",
        "    z+= 1\n",
        "\n",
        "autmn13 = s13 \n",
        "autmn14 = s14\n",
        "autmn15 = s15\n",
        "autmn16 = s16\n",
        "autmn17 = s17\n",
        "autmn18 = s18\n",
        "autmn19 = s19\n",
        "autmn20 = s20\n",
        "autmn21 = s21"
      ],
      "metadata": {
        "id": "1pTjhWEXUf6J"
      },
      "execution_count": 344,
      "outputs": []
    },
    {
      "cell_type": "code",
      "source": [
        "plt.plot(x, autmn13, color='#032e0f', label = '2013')\n",
        "plt.plot(x, autmn14, color='#1400a3', label = '2014')\n",
        "plt.plot(x, autmn15, color='#7d335b', label = '2015')\n",
        "plt.plot(x, autmn16, color='#b00911', label = '2016')\n",
        "plt.plot(x, autmn17, color='#018c85', label = '2017')\n",
        "plt.plot(x, autmn18, color='#0e8c07', label = '2018')\n",
        "plt.plot(x, autmn19, color='#e3e30e', label = '2019')\n",
        "plt.plot(x, autmn20, color='#f07807', label = '2020')\n",
        "plt.plot(x, autmn21, color='#7b047d', label = '2021')\n",
        "plt.xlabel('недели')\n",
        "plt.title('осень')\n",
        "plt.legend()\n",
        "plt.show()"
      ],
      "metadata": {
        "colab": {
          "base_uri": "https://localhost:8080/",
          "height": 472
        },
        "id": "oHPvCyEUVAXS",
        "outputId": "8c26ae4a-82a4-4eae-d0d1-2e8cd0304698"
      },
      "execution_count": 345,
      "outputs": [
        {
          "output_type": "display_data",
          "data": {
            "text/plain": [
              "<Figure size 640x480 with 1 Axes>"
            ],
            "image/png": "[encoded data removed]"
          },
          "metadata": {}
        }
      ]
    }
  ]
}